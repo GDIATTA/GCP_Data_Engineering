{
 "cells": [
  {
   "cell_type": "markdown",
   "metadata": {},
   "source": [
    "### Apache Beam\n",
    "**Apache Beam** Apache Beam is a library for data processing. It is often used for Extract-Transform-Load (ETL) jobs, where we:<br>\n",
    "> Extract from a data source <br>\n",
    "> Transform that data <br>\n",
    "> Load that data into a data sink (like a database) <br>"
   ]
  },
  {
   "cell_type": "markdown",
   "metadata": {},
   "source": [
    "##### In this tutorial, we'll need to import only these libraries"
   ]
  },
  {
   "cell_type": "code",
   "execution_count": 1,
   "metadata": {},
   "outputs": [],
   "source": [
    "import apache_beam as beam\n",
    "import logging\n",
    "import pandas as pd"
   ]
  },
  {
   "cell_type": "code",
   "execution_count": 4,
   "metadata": {},
   "outputs": [],
   "source": [
    "# Define the column name you want to extract\n",
    "column_to_extract = ['RD_Spend', 'Administration', 'Marketing_Spend','State']"
   ]
  },
  {
   "cell_type": "markdown",
   "metadata": {},
   "source": [
    "### Create a pipeline to do as follow : <br>\n",
    "> **In PCollection**, Read a csv file <br>\n",
    "> **In PTransformation**, Extract the columns like **['RD_Spend', 'Administration', 'Marketing_Spend','State']** <br>\n",
    "> **In Writing**, Store the results in a file.csv <br>"
   ]
  },
  {
   "cell_type": "code",
   "execution_count": 59,
   "metadata": {},
   "outputs": [],
   "source": [
    "# Define a function to extract a specific columns\n",
    "def extract_column(element, column_name):\n",
    "    return {column_name[0] : element[0],\n",
    "             column_name[1] : element[1],\n",
    "             column_name[2] : element[2],\n",
    "             column_name[3] : element[3]\n",
    "             #column_name[4] : element[4]\n",
    "             } # Return a dictionary with the specific column"
   ]
  },
  {
   "cell_type": "markdown",
   "metadata": {},
   "source": []
  },
  {
   "cell_type": "markdown",
   "metadata": {},
   "source": [
    "1. Extract columns from a dataset"
   ]
  },
  {
   "cell_type": "code",
   "execution_count": 58,
   "metadata": {},
   "outputs": [
    {
     "name": "stdout",
     "output_type": "stream",
     "text": [
      "C:/Users/Lenovo/OneDrive/Documents1/Apache_Beam/Project2/file1-00000-of-00001\n"
     ]
    }
   ],
   "source": [
    "# Create a pipline\n",
    "with beam.Pipeline() as pipeline1:\n",
    "    pip1 = (\n",
    "        pipeline1\n",
    "        | \"Read data from csv file\" >> beam.io.ReadFromCsv('50_Startups.csv')\n",
    "        | \"Extract Columns\" >> beam.Map(extract_column, column_name= column_to_extract)\n",
    "        | \"Write the result in a file1.txt\" >> beam.io.WriteToText(\"C:/Users/Lenovo/OneDrive/Documents1/Apache_Beam/Project2/file1\")\n",
    "        | \"Print the result\" >> beam.Map(print)\n",
    "    )"
   ]
  },
  {
   "cell_type": "markdown",
   "metadata": {},
   "source": [
    "### Create a pipeline to do as follow : <br>\n",
    "> **In PCollection**, Read a csv file <br>\n",
    "> **In PTransformation**, Extract the columns like **['RD_Spend', 'Administration', 'Marketing_Spend','State']** <br>\n",
    "> **In PTransformation**, Filter the records of **New York** <br>\n",
    "> **In Writing**, Store the results in a file.csv <br>"
   ]
  },
  {
   "cell_type": "code",
   "execution_count": 64,
   "metadata": {},
   "outputs": [
    {
     "name": "stdout",
     "output_type": "stream",
     "text": [
      "C:/Users/Lenovo/OneDrive/Documents1/Apache_Beam/Project2/file2-00000-of-00001\n"
     ]
    }
   ],
   "source": [
    "# Create a pipline\n",
    "with beam.Pipeline() as pipeline2:\n",
    "    pip2 = (\n",
    "        pipeline2\n",
    "        | \"Read data from csv file\" >> beam.io.ReadFromCsv('50_Startups.csv')\n",
    "        | \"Extract Columns\" >> beam.Map(extract_column, column_name= column_to_extract)\n",
    "        | \"Filter the New York records\" >> beam.Filter(lambda x: x['State']=='New York')\n",
    "        | \"Write the result in a file1.txt\" >> beam.io.WriteToText(\"C:/Users/Lenovo/OneDrive/Documents1/Apache_Beam/Project2/file2\")\n",
    "        | \"Print the result\" >> beam.Map(print)\n",
    "    )"
   ]
  },
  {
   "cell_type": "markdown",
   "metadata": {},
   "source": [
    "### Create a pipeline to do as follow : <br>\n",
    "> **In PCollection**, Read a csv file <br>\n",
    "> **In PTransformation**, Extract the columns like **['RD_Spend', 'Administration', 'Marketing_Spend','State']** <br>\n",
    "> **In PTransformation**, Filter the records of **New York** <br>\n",
    "> **In PTransformation**, Count the number of **New York** records <br>\n",
    "> **In Writing**, Store the results in a file.csv <br>"
   ]
  },
  {
   "cell_type": "code",
   "execution_count": 65,
   "metadata": {},
   "outputs": [
    {
     "name": "stdout",
     "output_type": "stream",
     "text": [
      "C:/Users/Lenovo/OneDrive/Documents1/Apache_Beam/Project2/file3-00000-of-00001\n"
     ]
    }
   ],
   "source": [
    "# Create a pipline\n",
    "with beam.Pipeline() as pipeline3:\n",
    "    pip3 = (\n",
    "        pipeline3\n",
    "        | \"Read data from csv file\" >> beam.io.ReadFromCsv('50_Startups.csv')\n",
    "        | \"Extract Columns\" >> beam.Map(extract_column, column_name= column_to_extract)\n",
    "        | \"Filter the New York records\" >> beam.Filter(lambda x: x['State']=='New York')\n",
    "        | \"Pair New York with 1\" >> beam.Map(lambda x: (x['State'],1))\n",
    "        | \"Write the result in a file1.txt\" >> beam.io.WriteToText(\"C:/Users/Lenovo/OneDrive/Documents1/Apache_Beam/Project2/file3\")\n",
    "        | \"Print the result\" >> beam.Map(print)\n",
    "    )"
   ]
  },
  {
   "cell_type": "code",
   "execution_count": 67,
   "metadata": {},
   "outputs": [
    {
     "name": "stdout",
     "output_type": "stream",
     "text": [
      "C:/Users/Lenovo/OneDrive/Documents1/Apache_Beam/Project2/file5-00000-of-00001\n"
     ]
    }
   ],
   "source": [
    "# Create a pipline\n",
    "with beam.Pipeline() as pipeline5:\n",
    "    pip5 = (\n",
    "        pipeline5\n",
    "        | \"Read data from csv file\" >> beam.io.ReadFromCsv('50_Startups.csv')\n",
    "        | \"Extract Columns\" >> beam.Map(extract_column, column_name= column_to_extract)\n",
    "        #| \"Filter the New York records\" >> beam.Filter(lambda x: x['State']=='New York')\n",
    "        | \"Pair New York with 1\" >> beam.Map(lambda x: (x['State'],1))\n",
    "        | 'Group and sum' >> beam.CombinePerKey(sum)\n",
    "        | \"Write the result in a file1.txt\" >> beam.io.WriteToText(\"C:/Users/Lenovo/OneDrive/Documents1/Apache_Beam/Project2/file5\")\n",
    "        | \"Print the result\" >> beam.Map(print)\n",
    "    )"
   ]
  }
 ],
 "metadata": {
  "kernelspec": {
   "display_name": "venv",
   "language": "python",
   "name": "python3"
  },
  "language_info": {
   "codemirror_mode": {
    "name": "ipython",
    "version": 3
   },
   "file_extension": ".py",
   "mimetype": "text/x-python",
   "name": "python",
   "nbconvert_exporter": "python",
   "pygments_lexer": "ipython3",
   "version": "3.11.9"
  }
 },
 "nbformat": 4,
 "nbformat_minor": 2
}
