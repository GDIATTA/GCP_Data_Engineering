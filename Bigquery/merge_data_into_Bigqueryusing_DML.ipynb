{
 "cells": [
  {
   "cell_type": "markdown",
   "metadata": {},
   "source": [
    "### In this tutorial, we will use DML to merge data into Bigquery\n",
    "#### MERGE statement\n",
    "A **MERGE statement** is a DML statement that can combine **INSERT, UPDATE, and DELETE** operations into a single statement and perform the operations atomically."
   ]
  },
  {
   "cell_type": "code",
   "execution_count": 21,
   "metadata": {},
   "outputs": [],
   "source": [
    "import os\n",
    "from google.cloud import bigquery\n",
    "os.environ[\"GOOGLE_APPLICATION_CREDENTIALS\"] = \"C:/Users/Lenovo/OneDrive/Documents1/Google_Bigquery/premium-botany-431702-u7-498d1c535417.json\"\n",
    "client = bigquery.Client()"
   ]
  },
  {
   "cell_type": "markdown",
   "metadata": {},
   "source": [
    "##### MERGE\n",
    "the following query adds new items from the Inventory table to the DetailedInventory table. For items with low inventory, the supply_constrained value is set to true, and comments are added."
   ]
  },
  {
   "cell_type": "code",
   "execution_count": 22,
   "metadata": {},
   "outputs": [],
   "source": [
    "# \n",
    "QUERY = (\n",
    "    '''\n",
    "    MERGE premium-botany-431702-u7.dataset1.DetailedInventory T\n",
    "    USING premium-botany-431702-u7.dataset1.Inventory S\n",
    "    ON T.product = S.product\n",
    "    WHEN NOT MATCHED AND quantity < 20 THEN\n",
    "      INSERT(product, quantity, supply_constrained, comments)\n",
    "      VALUES(product, quantity, true, ARRAY<STRUCT<created DATE, comment STRING>>[(DATE('2016-01-01'), 'comment1')])\n",
    "    WHEN NOT MATCHED THEN\n",
    "      INSERT(product, quantity, supply_constrained)\n",
    "      VALUES(product, quantity, false);\n",
    "      '''\n",
    "      )\n",
    "query_job = client.query(QUERY)  # API request"
   ]
  },
  {
   "cell_type": "code",
   "execution_count": 23,
   "metadata": {},
   "outputs": [],
   "source": [
    "# Perform a query.\n",
    "QUERY = (\n",
    "    'SELECT * FROM `premium-botany-431702-u7.dataset1.DetailedInventory` LIMIT 1000;')\n",
    "query_job = client.query(QUERY)  # API request\n",
    "rows = query_job.result()  # Waits for query to finish"
   ]
  },
  {
   "cell_type": "code",
   "execution_count": 24,
   "metadata": {},
   "outputs": [
    {
     "name": "stdout",
     "output_type": "stream",
     "text": [
      "Row(('countertop microwave', 20, None, [], None), {'product': 0, 'quantity': 1, 'supply_constrained': 2, 'comments': 3, 'specifications': 4})\n",
      "Row(('oven', 5, False, [], None), {'product': 0, 'quantity': 1, 'supply_constrained': 2, 'comments': 3, 'specifications': 4})\n",
      "Row(('refrigerator', 10, False, [], None), {'product': 0, 'quantity': 1, 'supply_constrained': 2, 'comments': 3, 'specifications': 4})\n",
      "Row(('dryer', 30, False, [], None), {'product': 0, 'quantity': 1, 'supply_constrained': 2, 'comments': 3, 'specifications': 4})\n",
      "Row(('microwave', 20, False, [], None), {'product': 0, 'quantity': 1, 'supply_constrained': 2, 'comments': 3, 'specifications': 4})\n",
      "Row(('top load washer', 10, False, [{'created': datetime.date(2016, 1, 1), 'comment': 'comment1'}, {'created': datetime.date(2016, 1, 1), 'comment': 'comment1'}], {'color': 'white', 'warranty': '1 year', 'dimensions': None}), {'product': 0, 'quantity': 1, 'supply_constrained': 2, 'comments': 3, 'specifications': 4})\n",
      "Row(('front load washer', 20, False, [{'created': datetime.date(2016, 1, 1), 'comment': 'comment1'}, {'created': datetime.date(2016, 1, 1), 'comment': 'comment1'}], {'color': 'white', 'warranty': '1 year', 'dimensions': None}), {'product': 0, 'quantity': 1, 'supply_constrained': 2, 'comments': 3, 'specifications': 4})\n",
      "Row(('dishwasher', 30, False, [{'created': datetime.date(2016, 1, 1), 'comment': 'comment1'}, {'created': datetime.date(2016, 1, 1), 'comment': 'comment1'}], {'color': 'white', 'warranty': '1 year', 'dimensions': None}), {'product': 0, 'quantity': 1, 'supply_constrained': 2, 'comments': 3, 'specifications': 4})\n",
      "Row(('front load washer', 20, False, [{'created': datetime.date(2024, 8, 8), 'comment': 'comment1'}, {'created': datetime.date(2016, 1, 1), 'comment': 'comment1'}, {'created': datetime.date(2016, 1, 1), 'comment': 'comment1'}], {'color': 'white', 'warranty': '1 year', 'dimensions': None}), {'product': 0, 'quantity': 1, 'supply_constrained': 2, 'comments': 3, 'specifications': 4})\n",
      "Row(('top load washer', 10, False, [{'created': datetime.date(2024, 8, 8), 'comment': 'comment1'}, {'created': datetime.date(2016, 1, 1), 'comment': 'comment1'}, {'created': datetime.date(2016, 1, 1), 'comment': 'comment1'}], {'color': 'white', 'warranty': '1 year', 'dimensions': None}), {'product': 0, 'quantity': 1, 'supply_constrained': 2, 'comments': 3, 'specifications': 4})\n"
     ]
    }
   ],
   "source": [
    "for row in rows:\n",
    "    print(row)"
   ]
  },
  {
   "cell_type": "markdown",
   "metadata": {},
   "source": [
    "##### MERGE\n",
    "In the following example, the query merges items from the NewArrivals table into the Inventory table. If an item is already present in Inventory, the query increments the quantity field. Otherwise, the query inserts a new row. Assume that the default value for the supply_constrained column is set to NULL."
   ]
  },
  {
   "cell_type": "code",
   "execution_count": 25,
   "metadata": {},
   "outputs": [],
   "source": [
    "\n",
    "QUERY = (\n",
    "    '''\n",
    "    MERGE premium-botany-431702-u7.dataset1.Inventory T\n",
    "    USING premium-botany-431702-u7.dataset1.NewArrivals S\n",
    "    ON T.product = S.product\n",
    "    WHEN MATCHED THEN\n",
    "      UPDATE SET quantity = T.quantity + S.quantity\n",
    "    WHEN NOT MATCHED THEN\n",
    "      INSERT (product, quantity) VALUES(product, quantity);\n",
    "      '''\n",
    "      )\n",
    "query_job = client.query(QUERY)  # API request"
   ]
  },
  {
   "cell_type": "code",
   "execution_count": 26,
   "metadata": {},
   "outputs": [
    {
     "name": "stdout",
     "output_type": "stream",
     "text": [
      "Row(('front load washer', 10, None), {'product': 0, 'quantity': 1, 'supply_constrained': 2})\n",
      "Row(('refrigerator', 10, None), {'product': 0, 'quantity': 1, 'supply_constrained': 2})\n",
      "Row(('microwave', 20, None), {'product': 0, 'quantity': 1, 'supply_constrained': 2})\n",
      "Row(('dishwasher', 20, None), {'product': 0, 'quantity': 1, 'supply_constrained': 2})\n",
      "Row(('oven', 605, False), {'product': 0, 'quantity': 1, 'supply_constrained': 2})\n",
      "Row(('dryer', 430, False), {'product': 0, 'quantity': 1, 'supply_constrained': 2})\n",
      "Row(('top load washer', 200, False), {'product': 0, 'quantity': 1, 'supply_constrained': 2})\n"
     ]
    }
   ],
   "source": [
    "# Perform a query.\n",
    "QUERY = (\n",
    "    'SELECT * FROM `premium-botany-431702-u7.dataset1.Inventory` LIMIT 1000;')\n",
    "query_job = client.query(QUERY)  # API request\n",
    "rows = query_job.result()  # Waits for query to finish\n",
    "for row in rows:\n",
    "    print(row)"
   ]
  },
  {
   "cell_type": "markdown",
   "metadata": {},
   "source": [
    "##### MERGE\n",
    "In the following example, the query increases the quantity of products from warehouse #1 by 20 in the NewArrivals table. The query deletes all other products except for those from warehouse #2."
   ]
  },
  {
   "cell_type": "code",
   "execution_count": 27,
   "metadata": {},
   "outputs": [],
   "source": [
    "\n",
    "QUERY = (\n",
    "    '''\n",
    "    MERGE premium-botany-431702-u7.dataset1.NewArrivals T\n",
    "    USING (SELECT * FROM premium-botany-431702-u7.dataset1.NewArrivals WHERE warehouse <> 'warehouse #2') S\n",
    "    ON T.product = S.product\n",
    "    WHEN MATCHED AND T.warehouse = 'warehouse #1' THEN\n",
    "      UPDATE SET quantity = T.quantity + 20\n",
    "    WHEN MATCHED THEN\n",
    "      DELETE;\n",
    "      '''\n",
    "      )\n",
    "query_job = client.query(QUERY)  # API request"
   ]
  },
  {
   "cell_type": "code",
   "execution_count": 28,
   "metadata": {},
   "outputs": [
    {
     "name": "stdout",
     "output_type": "stream",
     "text": [
      "Row(('dryer', 200, 'warehouse #2'), {'product': 0, 'quantity': 1, 'warehouse': 2})\n",
      "Row(('top load washer', 120, 'warehouse #1'), {'product': 0, 'quantity': 1, 'warehouse': 2})\n"
     ]
    }
   ],
   "source": [
    "# Perform a query.\n",
    "QUERY = (\n",
    "    'SELECT * FROM `premium-botany-431702-u7.dataset1.NewArrivals` LIMIT 1000;')\n",
    "query_job = client.query(QUERY)  # API request\n",
    "rows = query_job.result()  # Waits for query to finish\n",
    "for row in rows:\n",
    "    print(row)"
   ]
  },
  {
   "cell_type": "markdown",
   "metadata": {},
   "source": [
    "##### MERGE\n",
    "In the following example, the query replaces all products like '%washer%' in the Inventory table by using the values in the NewArrivals table."
   ]
  },
  {
   "cell_type": "code",
   "execution_count": 29,
   "metadata": {},
   "outputs": [],
   "source": [
    "\n",
    "QUERY = (\n",
    "    '''\n",
    "    MERGE premium-botany-431702-u7.dataset1.Inventory T\n",
    "    USING premium-botany-431702-u7.dataset1.NewArrivals S\n",
    "    ON FALSE\n",
    "    WHEN NOT MATCHED AND product LIKE '%washer%' THEN\n",
    "       INSERT (product, quantity) VALUES(product, quantity)\n",
    "    WHEN NOT MATCHED BY SOURCE AND product LIKE '%washer%' THEN\n",
    "      DELETE;\n",
    "'''\n",
    ")\n",
    "query_job = client.query(QUERY)  # API request"
   ]
  },
  {
   "cell_type": "code",
   "execution_count": 30,
   "metadata": {},
   "outputs": [
    {
     "name": "stdout",
     "output_type": "stream",
     "text": [
      "Row(('top load washer', 120, None), {'product': 0, 'quantity': 1, 'supply_constrained': 2})\n",
      "Row(('microwave', 20, None), {'product': 0, 'quantity': 1, 'supply_constrained': 2})\n",
      "Row(('refrigerator', 10, None), {'product': 0, 'quantity': 1, 'supply_constrained': 2})\n",
      "Row(('dryer', 430, False), {'product': 0, 'quantity': 1, 'supply_constrained': 2})\n",
      "Row(('oven', 605, False), {'product': 0, 'quantity': 1, 'supply_constrained': 2})\n"
     ]
    }
   ],
   "source": [
    "# Perform a query.\n",
    "QUERY = (\n",
    "    'SELECT * FROM `premium-botany-431702-u7.dataset1.Inventory` LIMIT 1000;')\n",
    "query_job = client.query(QUERY)  # API request\n",
    "rows = query_job.result()  # Waits for query to finish\n",
    "for row in rows:\n",
    "    print(row)"
   ]
  },
  {
   "cell_type": "markdown",
   "metadata": {},
   "source": [
    "##### MERGE\n",
    "In the following example, the query adds a comment in the DetailedInventory table if the product has a lower than average quantity in Inventory table."
   ]
  },
  {
   "cell_type": "code",
   "execution_count": 31,
   "metadata": {},
   "outputs": [],
   "source": [
    "QUERY = (\n",
    "    '''\n",
    "    MERGE premium-botany-431702-u7.dataset1.DetailedInventory T\n",
    "    USING premium-botany-431702-u7.dataset1.Inventory S\n",
    "    ON T.product = S.product\n",
    "    WHEN MATCHED AND S.quantity < (SELECT AVG(quantity) FROM premium-botany-431702-u7.dataset1.Inventory) THEN\n",
    "      UPDATE SET comments = ARRAY_CONCAT(comments, ARRAY<STRUCT<created DATE, comment STRING>>[(CAST('2016-02-01' AS DATE), 'comment2')]);\n",
    "'''\n",
    ")\n",
    "query_job = client.query(QUERY)  # API request"
   ]
  },
  {
   "cell_type": "code",
   "execution_count": 32,
   "metadata": {},
   "outputs": [
    {
     "name": "stdout",
     "output_type": "stream",
     "text": [
      "Row(('countertop microwave', 20, None, [], None), {'product': 0, 'quantity': 1, 'supply_constrained': 2, 'comments': 3, 'specifications': 4})\n",
      "Row(('dryer', 30, False, [], None), {'product': 0, 'quantity': 1, 'supply_constrained': 2, 'comments': 3, 'specifications': 4})\n",
      "Row(('oven', 5, False, [], None), {'product': 0, 'quantity': 1, 'supply_constrained': 2, 'comments': 3, 'specifications': 4})\n",
      "Row(('front load washer', 20, False, [{'created': datetime.date(2016, 1, 1), 'comment': 'comment1'}, {'created': datetime.date(2016, 1, 1), 'comment': 'comment1'}], {'color': 'white', 'warranty': '1 year', 'dimensions': None}), {'product': 0, 'quantity': 1, 'supply_constrained': 2, 'comments': 3, 'specifications': 4})\n",
      "Row(('dishwasher', 30, False, [{'created': datetime.date(2016, 1, 1), 'comment': 'comment1'}, {'created': datetime.date(2016, 1, 1), 'comment': 'comment1'}], {'color': 'white', 'warranty': '1 year', 'dimensions': None}), {'product': 0, 'quantity': 1, 'supply_constrained': 2, 'comments': 3, 'specifications': 4})\n",
      "Row(('front load washer', 20, False, [{'created': datetime.date(2024, 8, 8), 'comment': 'comment1'}, {'created': datetime.date(2016, 1, 1), 'comment': 'comment1'}, {'created': datetime.date(2016, 1, 1), 'comment': 'comment1'}], {'color': 'white', 'warranty': '1 year', 'dimensions': None}), {'product': 0, 'quantity': 1, 'supply_constrained': 2, 'comments': 3, 'specifications': 4})\n",
      "Row(('top load washer', 10, False, [{'created': datetime.date(2024, 8, 8), 'comment': 'comment1'}, {'created': datetime.date(2016, 1, 1), 'comment': 'comment1'}, {'created': datetime.date(2016, 1, 1), 'comment': 'comment1'}, {'created': datetime.date(2016, 2, 1), 'comment': 'comment2'}], {'color': 'white', 'warranty': '1 year', 'dimensions': None}), {'product': 0, 'quantity': 1, 'supply_constrained': 2, 'comments': 3, 'specifications': 4})\n",
      "Row(('top load washer', 10, False, [{'created': datetime.date(2016, 1, 1), 'comment': 'comment1'}, {'created': datetime.date(2016, 1, 1), 'comment': 'comment1'}, {'created': datetime.date(2016, 2, 1), 'comment': 'comment2'}], {'color': 'white', 'warranty': '1 year', 'dimensions': None}), {'product': 0, 'quantity': 1, 'supply_constrained': 2, 'comments': 3, 'specifications': 4})\n",
      "Row(('refrigerator', 10, False, [{'created': datetime.date(2016, 2, 1), 'comment': 'comment2'}], None), {'product': 0, 'quantity': 1, 'supply_constrained': 2, 'comments': 3, 'specifications': 4})\n",
      "Row(('microwave', 20, False, [{'created': datetime.date(2016, 2, 1), 'comment': 'comment2'}], None), {'product': 0, 'quantity': 1, 'supply_constrained': 2, 'comments': 3, 'specifications': 4})\n"
     ]
    }
   ],
   "source": [
    "# Perform a query.\n",
    "QUERY = (\n",
    "    'SELECT * FROM `premium-botany-431702-u7.dataset1.DetailedInventory` LIMIT 1000;')\n",
    "query_job = client.query(QUERY)  # API request\n",
    "rows = query_job.result()  # Waits for query to finish\n",
    "for row in rows:\n",
    "    print(row)"
   ]
  },
  {
   "cell_type": "markdown",
   "metadata": {},
   "source": [
    "##### MERGE\n",
    "In the following example, the query increases the inventory of products from the warehouse in CA. The products from other states are deleted, and any product that is not present in the NewArrivals table is unchanged."
   ]
  },
  {
   "cell_type": "code",
   "execution_count": 33,
   "metadata": {},
   "outputs": [],
   "source": [
    "QUERY = (\n",
    "    '''\n",
    "    MERGE premium-botany-431702-u7.dataset1.Inventory T\n",
    "    USING (SELECT product, quantity, state FROMpremium-botany-431702-u7.dataset1.NewArrivals t1 JOIN premium-botany-431702-u7.dataset1.Warehouse t2 ON t1.warehouse = t2.warehouse) S\n",
    "    ON T.product = S.product\n",
    "    WHEN MATCHED AND state = 'CA' THEN\n",
    "    UPDATE SET quantity = T.quantity + S.quantity\n",
    "    WHEN MATCHED THEN\n",
    "      DELETE;\n",
    "'''\n",
    ")\n",
    "query_job = client.query(QUERY)  # API request"
   ]
  },
  {
   "cell_type": "code",
   "execution_count": 34,
   "metadata": {},
   "outputs": [
    {
     "name": "stdout",
     "output_type": "stream",
     "text": [
      "Row(('top load washer', 120, None), {'product': 0, 'quantity': 1, 'supply_constrained': 2})\n",
      "Row(('microwave', 20, None), {'product': 0, 'quantity': 1, 'supply_constrained': 2})\n",
      "Row(('refrigerator', 10, None), {'product': 0, 'quantity': 1, 'supply_constrained': 2})\n",
      "Row(('dryer', 430, False), {'product': 0, 'quantity': 1, 'supply_constrained': 2})\n",
      "Row(('oven', 605, False), {'product': 0, 'quantity': 1, 'supply_constrained': 2})\n"
     ]
    }
   ],
   "source": [
    "# Perform a query.\n",
    "QUERY = (\n",
    "    'SELECT * FROM `premium-botany-431702-u7.dataset1.Inventory` LIMIT 1000;')\n",
    "query_job = client.query(QUERY)  # API request\n",
    "rows = query_job.result()  # Waits for query to finish\n",
    "for row in rows:\n",
    "    print(row)"
   ]
  },
  {
   "cell_type": "markdown",
   "metadata": {},
   "source": [
    "##### MERGE\n",
    "In the following example, a runtime error is returned because the query attempts to update a target table when the source contains more than one matched row. To resolve the error, you need to change the merge_condition or search_condition to avoid duplicate matches in the source."
   ]
  },
  {
   "cell_type": "code",
   "execution_count": 35,
   "metadata": {},
   "outputs": [],
   "source": [
    "QUERY = (\n",
    "    '''\n",
    "    MERGE premium-botany-431702-u7.dataset1.Inventory T\n",
    "    USING premium-botany-431702-u7.dataset1.NewArrivals S\n",
    "    ON T.product = S.product\n",
    "    WHEN MATCHED THEN\n",
    "      UPDATE SET quantity = T.quantity + S.quantity;\n",
    "'''\n",
    ")\n",
    "query_job = client.query(QUERY)  # API request"
   ]
  },
  {
   "cell_type": "code",
   "execution_count": 36,
   "metadata": {},
   "outputs": [
    {
     "name": "stdout",
     "output_type": "stream",
     "text": [
      "Row(('dryer', 630, False), {'product': 0, 'quantity': 1, 'supply_constrained': 2})\n",
      "Row(('top load washer', 240, None), {'product': 0, 'quantity': 1, 'supply_constrained': 2})\n",
      "Row(('microwave', 20, None), {'product': 0, 'quantity': 1, 'supply_constrained': 2})\n",
      "Row(('refrigerator', 10, None), {'product': 0, 'quantity': 1, 'supply_constrained': 2})\n",
      "Row(('oven', 605, False), {'product': 0, 'quantity': 1, 'supply_constrained': 2})\n"
     ]
    }
   ],
   "source": [
    "# Perform a query.\n",
    "QUERY = (\n",
    "    'SELECT * FROM `premium-botany-431702-u7.dataset1.Inventory` LIMIT 1000;')\n",
    "query_job = client.query(QUERY)  # API request\n",
    "rows = query_job.result()  # Waits for query to finish\n",
    "for row in rows:\n",
    "    print(row)"
   ]
  },
  {
   "cell_type": "markdown",
   "metadata": {},
   "source": [
    "##### MERGE\n",
    "In the following example, all of the products in the NewArrivals table are replaced with values from the subquery. The INSERT clause does not specify column names for either the target table or the source subquery."
   ]
  },
  {
   "cell_type": "code",
   "execution_count": 37,
   "metadata": {},
   "outputs": [],
   "source": [
    "QUERY = (\n",
    "    '''\n",
    "    MERGE premium-botany-431702-u7.dataset1.NewArrivals\n",
    "USING (SELECT * FROM UNNEST([('microwave', 10, 'warehouse #1'),\n",
    "                             ('dryer', 30, 'warehouse #1'),\n",
    "                             ('oven', 20, 'warehouse #2')]))\n",
    "ON FALSE\n",
    "WHEN NOT MATCHED THEN\n",
    "  INSERT ROW\n",
    "WHEN NOT MATCHED BY SOURCE THEN\n",
    "  DELETE;\n",
    "'''\n",
    ")\n",
    "query_job = client.query(QUERY)  # API request"
   ]
  },
  {
   "cell_type": "code",
   "execution_count": 38,
   "metadata": {},
   "outputs": [
    {
     "name": "stdout",
     "output_type": "stream",
     "text": [
      "Row(('dryer', 30, 'warehouse #1'), {'product': 0, 'quantity': 1, 'warehouse': 2})\n",
      "Row(('microwave', 10, 'warehouse #1'), {'product': 0, 'quantity': 1, 'warehouse': 2})\n",
      "Row(('oven', 20, 'warehouse #2'), {'product': 0, 'quantity': 1, 'warehouse': 2})\n"
     ]
    }
   ],
   "source": [
    "# Perform a query.\n",
    "QUERY = (\n",
    "    'SELECT * FROM `premium-botany-431702-u7.dataset1.NewArrivals` LIMIT 1000;')\n",
    "query_job = client.query(QUERY)  # API request\n",
    "rows = query_job.result()  # Waits for query to finish\n",
    "for row in rows:\n",
    "    print(row)"
   ]
  },
  {
   "cell_type": "markdown",
   "metadata": {},
   "source": [
    "##### UPDATE statement using join between three tables\n",
    "The following example sets supply_constrained to true for all products from NewArrivals where the warehouse location is in 'WA' state."
   ]
  },
  {
   "cell_type": "code",
   "execution_count": 39,
   "metadata": {},
   "outputs": [],
   "source": [
    "QUERY = (\n",
    "    '''\n",
    "    UPDATE premium-botany-431702-u7.dataset1.DetailedInventory\n",
    "    SET supply_constrained = true\n",
    "    FROM premium-botany-431702-u7.dataset1.NewArrivals, premium-botany-431702-u7.dataset1.Warehouse\n",
    "    WHERE DetailedInventory.product = NewArrivals.product AND\n",
    "          NewArrivals.warehouse = Warehouse.warehouse AND\n",
    "          Warehouse.state = 'WA';\n",
    "'''\n",
    ")\n",
    "query_job = client.query(QUERY)  # API request"
   ]
  },
  {
   "cell_type": "code",
   "execution_count": 40,
   "metadata": {},
   "outputs": [
    {
     "name": "stdout",
     "output_type": "stream",
     "text": [
      "Row(('countertop microwave', 20, None, [], None), {'product': 0, 'quantity': 1, 'supply_constrained': 2, 'comments': 3, 'specifications': 4})\n",
      "Row(('dryer', 30, False, [], None), {'product': 0, 'quantity': 1, 'supply_constrained': 2, 'comments': 3, 'specifications': 4})\n",
      "Row(('oven', 5, False, [], None), {'product': 0, 'quantity': 1, 'supply_constrained': 2, 'comments': 3, 'specifications': 4})\n",
      "Row(('front load washer', 20, False, [{'created': datetime.date(2016, 1, 1), 'comment': 'comment1'}, {'created': datetime.date(2016, 1, 1), 'comment': 'comment1'}], {'color': 'white', 'warranty': '1 year', 'dimensions': None}), {'product': 0, 'quantity': 1, 'supply_constrained': 2, 'comments': 3, 'specifications': 4})\n",
      "Row(('dishwasher', 30, False, [{'created': datetime.date(2016, 1, 1), 'comment': 'comment1'}, {'created': datetime.date(2016, 1, 1), 'comment': 'comment1'}], {'color': 'white', 'warranty': '1 year', 'dimensions': None}), {'product': 0, 'quantity': 1, 'supply_constrained': 2, 'comments': 3, 'specifications': 4})\n",
      "Row(('front load washer', 20, False, [{'created': datetime.date(2024, 8, 8), 'comment': 'comment1'}, {'created': datetime.date(2016, 1, 1), 'comment': 'comment1'}, {'created': datetime.date(2016, 1, 1), 'comment': 'comment1'}], {'color': 'white', 'warranty': '1 year', 'dimensions': None}), {'product': 0, 'quantity': 1, 'supply_constrained': 2, 'comments': 3, 'specifications': 4})\n",
      "Row(('top load washer', 10, False, [{'created': datetime.date(2024, 8, 8), 'comment': 'comment1'}, {'created': datetime.date(2016, 1, 1), 'comment': 'comment1'}, {'created': datetime.date(2016, 1, 1), 'comment': 'comment1'}, {'created': datetime.date(2016, 2, 1), 'comment': 'comment2'}], {'color': 'white', 'warranty': '1 year', 'dimensions': None}), {'product': 0, 'quantity': 1, 'supply_constrained': 2, 'comments': 3, 'specifications': 4})\n",
      "Row(('top load washer', 10, False, [{'created': datetime.date(2016, 1, 1), 'comment': 'comment1'}, {'created': datetime.date(2016, 1, 1), 'comment': 'comment1'}, {'created': datetime.date(2016, 2, 1), 'comment': 'comment2'}], {'color': 'white', 'warranty': '1 year', 'dimensions': None}), {'product': 0, 'quantity': 1, 'supply_constrained': 2, 'comments': 3, 'specifications': 4})\n",
      "Row(('refrigerator', 10, False, [{'created': datetime.date(2016, 2, 1), 'comment': 'comment2'}], None), {'product': 0, 'quantity': 1, 'supply_constrained': 2, 'comments': 3, 'specifications': 4})\n",
      "Row(('microwave', 20, False, [{'created': datetime.date(2016, 2, 1), 'comment': 'comment2'}], None), {'product': 0, 'quantity': 1, 'supply_constrained': 2, 'comments': 3, 'specifications': 4})\n"
     ]
    }
   ],
   "source": [
    "# Perform a query.\n",
    "QUERY = (\n",
    "    'SELECT * FROM `premium-botany-431702-u7.dataset1.DetailedInventory` LIMIT 1000;')\n",
    "query_job = client.query(QUERY)  # API request\n",
    "rows = query_job.result()  # Waits for query to finish\n",
    "for row in rows:\n",
    "    print(row)"
   ]
  }
 ],
 "metadata": {
  "kernelspec": {
   "display_name": "venv",
   "language": "python",
   "name": "python3"
  },
  "language_info": {
   "codemirror_mode": {
    "name": "ipython",
    "version": 3
   },
   "file_extension": ".py",
   "mimetype": "text/x-python",
   "name": "python",
   "nbconvert_exporter": "python",
   "pygments_lexer": "ipython3",
   "version": "3.11.9"
  }
 },
 "nbformat": 4,
 "nbformat_minor": 2
}
