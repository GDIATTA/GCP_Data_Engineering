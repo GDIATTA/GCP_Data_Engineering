{
 "cells": [
  {
   "cell_type": "markdown",
   "metadata": {},
   "source": [
    "### In this tutorial, we will use DML to update data into Bigquery"
   ]
  },
  {
   "cell_type": "code",
   "execution_count": 1,
   "metadata": {},
   "outputs": [],
   "source": [
    "import os\n",
    "from google.cloud import bigquery\n",
    "os.environ[\"GOOGLE_APPLICATION_CREDENTIALS\"] = \"C:/Users/Lenovo/OneDrive/Documents1/Google_Bigquery/premium-botany-431702-u7-498d1c535417.json\"\n",
    "client = bigquery.Client()"
   ]
  },
  {
   "cell_type": "markdown",
   "metadata": {},
   "source": [
    "##### UPDATE with WHERE clause\n",
    "The following example updates a table named Inventory by reducing the value of the quantity field by 10 for all products that contain the string washer. Assume that the default value for the supply_constrained column is set to TRUE."
   ]
  },
  {
   "cell_type": "code",
   "execution_count": 2,
   "metadata": {},
   "outputs": [],
   "source": [
    "# \n",
    "QUERY = (\n",
    "    '''\n",
    "    UPDATE premium-botany-431702-u7.dataset1.Inventory\n",
    "    SET quantity = quantity - 10,\n",
    "    supply_constrained = DEFAULT\n",
    "    WHERE product like '%washer%'\n",
    "      '''\n",
    "      )\n",
    "query_job = client.query(QUERY)  # API request"
   ]
  },
  {
   "cell_type": "code",
   "execution_count": 3,
   "metadata": {},
   "outputs": [],
   "source": [
    "# Perform a query.\n",
    "QUERY = (\n",
    "    'SELECT * FROM `premium-botany-431702-u7.dataset1.Inventory` LIMIT 1000;')\n",
    "query_job = client.query(QUERY)  # API request\n",
    "rows = query_job.result()  # Waits for query to finish"
   ]
  },
  {
   "cell_type": "code",
   "execution_count": 4,
   "metadata": {},
   "outputs": [
    {
     "name": "stdout",
     "output_type": "stream",
     "text": [
      "Row(('front load washer', 10, None), {'product': 0, 'quantity': 1, 'supply_constrained': 2})\n",
      "Row(('dishwasher', 20, None), {'product': 0, 'quantity': 1, 'supply_constrained': 2})\n",
      "Row(('top load washer', 0, None), {'product': 0, 'quantity': 1, 'supply_constrained': 2})\n",
      "Row(('microwave', 20, None), {'product': 0, 'quantity': 1, 'supply_constrained': 2})\n",
      "Row(('oven', 5, None), {'product': 0, 'quantity': 1, 'supply_constrained': 2})\n",
      "Row(('refrigerator', 10, None), {'product': 0, 'quantity': 1, 'supply_constrained': 2})\n",
      "Row(('dryer', 30, None), {'product': 0, 'quantity': 1, 'supply_constrained': 2})\n"
     ]
    }
   ],
   "source": [
    "for row in rows:\n",
    "    print(row)"
   ]
  },
  {
   "cell_type": "markdown",
   "metadata": {},
   "source": [
    "##### UPDATE using joins \n",
    "The following example generates a table with inventory totals that include existing inventory and inventory from the NewArrivals table, and marks supply_constrained as false:"
   ]
  },
  {
   "cell_type": "code",
   "execution_count": 5,
   "metadata": {},
   "outputs": [],
   "source": [
    "\n",
    "QUERY = (\n",
    "    '''\n",
    "    UPDATE premium-botany-431702-u7.dataset1.Inventory\n",
    "    SET quantity = quantity +\n",
    "    (SELECT quantity FROM premium-botany-431702-u7.dataset1.NewArrivals\n",
    "    WHERE Inventory.product = NewArrivals.product),\n",
    "    supply_constrained = false\n",
    "    WHERE product IN (SELECT product FROM premium-botany-431702-u7.dataset1.NewArrivals);\n",
    "      '''\n",
    "      )\n",
    "query_job = client.query(QUERY)  # API request"
   ]
  },
  {
   "cell_type": "code",
   "execution_count": 6,
   "metadata": {},
   "outputs": [
    {
     "name": "stdout",
     "output_type": "stream",
     "text": [
      "Row(('refrigerator', 10, None), {'product': 0, 'quantity': 1, 'supply_constrained': 2})\n",
      "Row(('front load washer', 10, None), {'product': 0, 'quantity': 1, 'supply_constrained': 2})\n",
      "Row(('dishwasher', 20, None), {'product': 0, 'quantity': 1, 'supply_constrained': 2})\n",
      "Row(('microwave', 20, None), {'product': 0, 'quantity': 1, 'supply_constrained': 2})\n",
      "Row(('oven', 305, False), {'product': 0, 'quantity': 1, 'supply_constrained': 2})\n",
      "Row(('top load washer', 100, False), {'product': 0, 'quantity': 1, 'supply_constrained': 2})\n",
      "Row(('dryer', 230, False), {'product': 0, 'quantity': 1, 'supply_constrained': 2})\n"
     ]
    }
   ],
   "source": [
    "# Perform a query.\n",
    "QUERY = (\n",
    "    'SELECT * FROM `premium-botany-431702-u7.dataset1.Inventory` LIMIT 1000;')\n",
    "query_job = client.query(QUERY)  # API request\n",
    "rows = query_job.result()  # Waits for query to finish\n",
    "for row in rows:\n",
    "    print(row)"
   ]
  },
  {
   "cell_type": "markdown",
   "metadata": {},
   "source": [
    "##### UPDATE nested fields\n",
    "The following example updates nested record fields."
   ]
  },
  {
   "cell_type": "code",
   "execution_count": 7,
   "metadata": {},
   "outputs": [],
   "source": [
    "\n",
    "QUERY = (\n",
    "    '''\n",
    "    UPDATE premium-botany-431702-u7.dataset1.DetailedInventory\n",
    "    SET specifications.color = 'white',\n",
    "    specifications.warranty = '1 year'\n",
    "    WHERE product like '%washer%';\n",
    "      '''\n",
    "      )\n",
    "query_job = client.query(QUERY)  # API request"
   ]
  },
  {
   "cell_type": "code",
   "execution_count": 8,
   "metadata": {},
   "outputs": [
    {
     "name": "stdout",
     "output_type": "stream",
     "text": [
      "Row(('countertop microwave', 20, None, [], None), {'product': 0, 'quantity': 1, 'supply_constrained': 2, 'comments': 3, 'specifications': 4})\n",
      "Row(('refrigerator', 10, False, [], None), {'product': 0, 'quantity': 1, 'supply_constrained': 2, 'comments': 3, 'specifications': 4})\n",
      "Row(('oven', 5, False, [], None), {'product': 0, 'quantity': 1, 'supply_constrained': 2, 'comments': 3, 'specifications': 4})\n",
      "Row(('dryer', 30, False, [], None), {'product': 0, 'quantity': 1, 'supply_constrained': 2, 'comments': 3, 'specifications': 4})\n",
      "Row(('microwave', 20, False, [], None), {'product': 0, 'quantity': 1, 'supply_constrained': 2, 'comments': 3, 'specifications': 4})\n",
      "Row(('dishwasher', 30, False, [], {'color': 'white', 'warranty': '1 year', 'dimensions': None}), {'product': 0, 'quantity': 1, 'supply_constrained': 2, 'comments': 3, 'specifications': 4})\n",
      "Row(('top load washer', 10, False, [], {'color': 'white', 'warranty': '1 year', 'dimensions': None}), {'product': 0, 'quantity': 1, 'supply_constrained': 2, 'comments': 3, 'specifications': 4})\n",
      "Row(('front load washer', 20, False, [], {'color': 'white', 'warranty': '1 year', 'dimensions': None}), {'product': 0, 'quantity': 1, 'supply_constrained': 2, 'comments': 3, 'specifications': 4})\n",
      "Row(('top load washer', 10, False, [{'created': datetime.date(2024, 8, 8), 'comment': 'comment1'}], {'color': 'white', 'warranty': '1 year', 'dimensions': {'depth': 30.0, 'height': 40.0, 'width': 28.0}}), {'product': 0, 'quantity': 1, 'supply_constrained': 2, 'comments': 3, 'specifications': 4})\n",
      "Row(('front load washer', 20, False, [{'created': datetime.date(2024, 8, 8), 'comment': 'comment1'}], {'color': 'white', 'warranty': '1 year', 'dimensions': {'depth': 35.0, 'height': 45.0, 'width': 30.0}}), {'product': 0, 'quantity': 1, 'supply_constrained': 2, 'comments': 3, 'specifications': 4})\n"
     ]
    }
   ],
   "source": [
    "# Perform a query.\n",
    "QUERY = (\n",
    "    'SELECT * FROM `premium-botany-431702-u7.dataset1.DetailedInventory` LIMIT 1000;')\n",
    "query_job = client.query(QUERY)  # API request\n",
    "rows = query_job.result()  # Waits for query to finish\n",
    "for row in rows:\n",
    "    print(row)"
   ]
  },
  {
   "cell_type": "markdown",
   "metadata": {},
   "source": [
    "Alternatively, you can update the entire record:"
   ]
  },
  {
   "cell_type": "code",
   "execution_count": 9,
   "metadata": {},
   "outputs": [],
   "source": [
    "\n",
    "QUERY = (\n",
    "    '''\n",
    "    UPDATE premium-botany-431702-u7.dataset1.DetailedInventory\n",
    "    SET specifications\n",
    "        = STRUCT<color STRING, warranty STRING,\n",
    "    dimensions STRUCT<depth FLOAT64, height FLOAT64, width FLOAT64>>('white', '1 year', NULL)\n",
    "    WHERE product like '%washer%';\n",
    "'''\n",
    ")\n",
    "query_job = client.query(QUERY)  # API request"
   ]
  },
  {
   "cell_type": "code",
   "execution_count": 10,
   "metadata": {},
   "outputs": [
    {
     "name": "stdout",
     "output_type": "stream",
     "text": [
      "Row(('countertop microwave', 20, None, [], None), {'product': 0, 'quantity': 1, 'supply_constrained': 2, 'comments': 3, 'specifications': 4})\n",
      "Row(('dishwasher', 30, False, [], {'color': 'white', 'warranty': '1 year', 'dimensions': None}), {'product': 0, 'quantity': 1, 'supply_constrained': 2, 'comments': 3, 'specifications': 4})\n",
      "Row(('top load washer', 10, False, [], {'color': 'white', 'warranty': '1 year', 'dimensions': None}), {'product': 0, 'quantity': 1, 'supply_constrained': 2, 'comments': 3, 'specifications': 4})\n",
      "Row(('front load washer', 20, False, [], {'color': 'white', 'warranty': '1 year', 'dimensions': None}), {'product': 0, 'quantity': 1, 'supply_constrained': 2, 'comments': 3, 'specifications': 4})\n",
      "Row(('microwave', 20, False, [], None), {'product': 0, 'quantity': 1, 'supply_constrained': 2, 'comments': 3, 'specifications': 4})\n",
      "Row(('oven', 5, False, [], None), {'product': 0, 'quantity': 1, 'supply_constrained': 2, 'comments': 3, 'specifications': 4})\n",
      "Row(('dryer', 30, False, [], None), {'product': 0, 'quantity': 1, 'supply_constrained': 2, 'comments': 3, 'specifications': 4})\n",
      "Row(('refrigerator', 10, False, [], None), {'product': 0, 'quantity': 1, 'supply_constrained': 2, 'comments': 3, 'specifications': 4})\n",
      "Row(('top load washer', 10, False, [{'created': datetime.date(2024, 8, 8), 'comment': 'comment1'}], {'color': 'white', 'warranty': '1 year', 'dimensions': None}), {'product': 0, 'quantity': 1, 'supply_constrained': 2, 'comments': 3, 'specifications': 4})\n",
      "Row(('front load washer', 20, False, [{'created': datetime.date(2024, 8, 8), 'comment': 'comment1'}], {'color': 'white', 'warranty': '1 year', 'dimensions': None}), {'product': 0, 'quantity': 1, 'supply_constrained': 2, 'comments': 3, 'specifications': 4})\n"
     ]
    }
   ],
   "source": [
    "# Perform a query.\n",
    "QUERY = (\n",
    "    'SELECT * FROM `premium-botany-431702-u7.dataset1.DetailedInventory` LIMIT 1000;')\n",
    "query_job = client.query(QUERY)  # API request\n",
    "rows = query_job.result()  # Waits for query to finish\n",
    "for row in rows:\n",
    "    print(row)"
   ]
  },
  {
   "cell_type": "markdown",
   "metadata": {},
   "source": [
    "##### UPDATE repeated records\n",
    "The following example appends an entry to a repeated record in the comments column for products that contain the string washer:"
   ]
  },
  {
   "cell_type": "code",
   "execution_count": 11,
   "metadata": {},
   "outputs": [],
   "source": [
    "QUERY = (\n",
    "    '''\n",
    "    UPDATE premium-botany-431702-u7.dataset1.DetailedInventory\n",
    "    SET comments = ARRAY(\n",
    "    SELECT comment FROM UNNEST(comments) AS comment\n",
    "    UNION ALL\n",
    "    SELECT (CAST('2016-01-01' AS DATE), 'comment1')\n",
    ")\n",
    "WHERE product like '%washer%';\n",
    "'''\n",
    ")\n",
    "query_job = client.query(QUERY)  # API request"
   ]
  },
  {
   "cell_type": "code",
   "execution_count": 12,
   "metadata": {},
   "outputs": [
    {
     "name": "stdout",
     "output_type": "stream",
     "text": [
      "Row(('countertop microwave', 20, None, [], None), {'product': 0, 'quantity': 1, 'supply_constrained': 2, 'comments': 3, 'specifications': 4})\n",
      "Row(('dryer', 30, False, [], None), {'product': 0, 'quantity': 1, 'supply_constrained': 2, 'comments': 3, 'specifications': 4})\n",
      "Row(('refrigerator', 10, False, [], None), {'product': 0, 'quantity': 1, 'supply_constrained': 2, 'comments': 3, 'specifications': 4})\n",
      "Row(('oven', 5, False, [], None), {'product': 0, 'quantity': 1, 'supply_constrained': 2, 'comments': 3, 'specifications': 4})\n",
      "Row(('microwave', 20, False, [], None), {'product': 0, 'quantity': 1, 'supply_constrained': 2, 'comments': 3, 'specifications': 4})\n",
      "Row(('top load washer', 10, False, [{'created': datetime.date(2016, 1, 1), 'comment': 'comment1'}], {'color': 'white', 'warranty': '1 year', 'dimensions': None}), {'product': 0, 'quantity': 1, 'supply_constrained': 2, 'comments': 3, 'specifications': 4})\n",
      "Row(('front load washer', 20, False, [{'created': datetime.date(2016, 1, 1), 'comment': 'comment1'}], {'color': 'white', 'warranty': '1 year', 'dimensions': None}), {'product': 0, 'quantity': 1, 'supply_constrained': 2, 'comments': 3, 'specifications': 4})\n",
      "Row(('dishwasher', 30, False, [{'created': datetime.date(2016, 1, 1), 'comment': 'comment1'}], {'color': 'white', 'warranty': '1 year', 'dimensions': None}), {'product': 0, 'quantity': 1, 'supply_constrained': 2, 'comments': 3, 'specifications': 4})\n",
      "Row(('top load washer', 10, False, [{'created': datetime.date(2024, 8, 8), 'comment': 'comment1'}, {'created': datetime.date(2016, 1, 1), 'comment': 'comment1'}], {'color': 'white', 'warranty': '1 year', 'dimensions': None}), {'product': 0, 'quantity': 1, 'supply_constrained': 2, 'comments': 3, 'specifications': 4})\n",
      "Row(('front load washer', 20, False, [{'created': datetime.date(2024, 8, 8), 'comment': 'comment1'}, {'created': datetime.date(2016, 1, 1), 'comment': 'comment1'}], {'color': 'white', 'warranty': '1 year', 'dimensions': None}), {'product': 0, 'quantity': 1, 'supply_constrained': 2, 'comments': 3, 'specifications': 4})\n"
     ]
    }
   ],
   "source": [
    "# Perform a query.\n",
    "QUERY = (\n",
    "    'SELECT * FROM `premium-botany-431702-u7.dataset1.DetailedInventory` LIMIT 1000;')\n",
    "query_job = client.query(QUERY)  # API request\n",
    "rows = query_job.result()  # Waits for query to finish\n",
    "for row in rows:\n",
    "    print(row)"
   ]
  },
  {
   "cell_type": "markdown",
   "metadata": {},
   "source": [
    "##### Alternatively, you can use the ARRAY_CONCAT function:"
   ]
  },
  {
   "cell_type": "code",
   "execution_count": 13,
   "metadata": {},
   "outputs": [],
   "source": [
    "QUERY = (\n",
    "    '''\n",
    "    UPDATE premium-botany-431702-u7.dataset1.DetailedInventory\n",
    "    SET comments = ARRAY_CONCAT(comments,\n",
    "    ARRAY<STRUCT<created DATE, comment STRING>>[(CAST('2016-01-01' AS DATE), 'comment1')])\n",
    "    WHERE product like '%washer%';\n",
    "'''\n",
    ")\n",
    "query_job = client.query(QUERY)  # API request"
   ]
  },
  {
   "cell_type": "code",
   "execution_count": 14,
   "metadata": {},
   "outputs": [
    {
     "name": "stdout",
     "output_type": "stream",
     "text": [
      "Row(('countertop microwave', 20, None, [], None), {'product': 0, 'quantity': 1, 'supply_constrained': 2, 'comments': 3, 'specifications': 4})\n",
      "Row(('dryer', 30, False, [], None), {'product': 0, 'quantity': 1, 'supply_constrained': 2, 'comments': 3, 'specifications': 4})\n",
      "Row(('oven', 5, False, [], None), {'product': 0, 'quantity': 1, 'supply_constrained': 2, 'comments': 3, 'specifications': 4})\n",
      "Row(('refrigerator', 10, False, [], None), {'product': 0, 'quantity': 1, 'supply_constrained': 2, 'comments': 3, 'specifications': 4})\n",
      "Row(('microwave', 20, False, [], None), {'product': 0, 'quantity': 1, 'supply_constrained': 2, 'comments': 3, 'specifications': 4})\n",
      "Row(('front load washer', 20, False, [{'created': datetime.date(2016, 1, 1), 'comment': 'comment1'}, {'created': datetime.date(2016, 1, 1), 'comment': 'comment1'}], {'color': 'white', 'warranty': '1 year', 'dimensions': None}), {'product': 0, 'quantity': 1, 'supply_constrained': 2, 'comments': 3, 'specifications': 4})\n",
      "Row(('top load washer', 10, False, [{'created': datetime.date(2016, 1, 1), 'comment': 'comment1'}, {'created': datetime.date(2016, 1, 1), 'comment': 'comment1'}], {'color': 'white', 'warranty': '1 year', 'dimensions': None}), {'product': 0, 'quantity': 1, 'supply_constrained': 2, 'comments': 3, 'specifications': 4})\n",
      "Row(('dishwasher', 30, False, [{'created': datetime.date(2016, 1, 1), 'comment': 'comment1'}, {'created': datetime.date(2016, 1, 1), 'comment': 'comment1'}], {'color': 'white', 'warranty': '1 year', 'dimensions': None}), {'product': 0, 'quantity': 1, 'supply_constrained': 2, 'comments': 3, 'specifications': 4})\n",
      "Row(('front load washer', 20, False, [{'created': datetime.date(2024, 8, 8), 'comment': 'comment1'}, {'created': datetime.date(2016, 1, 1), 'comment': 'comment1'}, {'created': datetime.date(2016, 1, 1), 'comment': 'comment1'}], {'color': 'white', 'warranty': '1 year', 'dimensions': None}), {'product': 0, 'quantity': 1, 'supply_constrained': 2, 'comments': 3, 'specifications': 4})\n",
      "Row(('top load washer', 10, False, [{'created': datetime.date(2024, 8, 8), 'comment': 'comment1'}, {'created': datetime.date(2016, 1, 1), 'comment': 'comment1'}, {'created': datetime.date(2016, 1, 1), 'comment': 'comment1'}], {'color': 'white', 'warranty': '1 year', 'dimensions': None}), {'product': 0, 'quantity': 1, 'supply_constrained': 2, 'comments': 3, 'specifications': 4})\n"
     ]
    }
   ],
   "source": [
    "# Perform a query.\n",
    "QUERY = (\n",
    "    'SELECT * FROM `premium-botany-431702-u7.dataset1.DetailedInventory` LIMIT 1000;')\n",
    "query_job = client.query(QUERY)  # API request\n",
    "rows = query_job.result()  # Waits for query to finish\n",
    "for row in rows:\n",
    "    print(row)"
   ]
  },
  {
   "cell_type": "markdown",
   "metadata": {},
   "source": [
    "The following example appends a second entry to the repeated record in the comments column for all rows:"
   ]
  },
  {
   "cell_type": "code",
   "execution_count": 15,
   "metadata": {},
   "outputs": [],
   "source": [
    "QUERY = (\n",
    "    '''\n",
    "    UPDATE premium-botany-431702-u7.dataset1.DetailedInventory\n",
    "    SET comments = ARRAY(\n",
    "    SELECT comment FROM UNNEST(comments) AS comment\n",
    "    UNION ALL\n",
    "    SELECT (CAST('2016-01-01' AS DATE), 'comment2')\n",
    ")\n",
    "WHERE true\n",
    "\n",
    "SELECT product, comments FROM premium-botany-431702-u7.dataset1.DetailedInventory;\n",
    "'''\n",
    ")\n",
    "query_job = client.query(QUERY)  # API request"
   ]
  },
  {
   "cell_type": "code",
   "execution_count": 16,
   "metadata": {},
   "outputs": [
    {
     "name": "stdout",
     "output_type": "stream",
     "text": [
      "Row(('countertop microwave', 20, None, [], None), {'product': 0, 'quantity': 1, 'supply_constrained': 2, 'comments': 3, 'specifications': 4})\n",
      "Row(('dryer', 30, False, [], None), {'product': 0, 'quantity': 1, 'supply_constrained': 2, 'comments': 3, 'specifications': 4})\n",
      "Row(('oven', 5, False, [], None), {'product': 0, 'quantity': 1, 'supply_constrained': 2, 'comments': 3, 'specifications': 4})\n",
      "Row(('refrigerator', 10, False, [], None), {'product': 0, 'quantity': 1, 'supply_constrained': 2, 'comments': 3, 'specifications': 4})\n",
      "Row(('microwave', 20, False, [], None), {'product': 0, 'quantity': 1, 'supply_constrained': 2, 'comments': 3, 'specifications': 4})\n",
      "Row(('front load washer', 20, False, [{'created': datetime.date(2016, 1, 1), 'comment': 'comment1'}, {'created': datetime.date(2016, 1, 1), 'comment': 'comment1'}], {'color': 'white', 'warranty': '1 year', 'dimensions': None}), {'product': 0, 'quantity': 1, 'supply_constrained': 2, 'comments': 3, 'specifications': 4})\n",
      "Row(('top load washer', 10, False, [{'created': datetime.date(2016, 1, 1), 'comment': 'comment1'}, {'created': datetime.date(2016, 1, 1), 'comment': 'comment1'}], {'color': 'white', 'warranty': '1 year', 'dimensions': None}), {'product': 0, 'quantity': 1, 'supply_constrained': 2, 'comments': 3, 'specifications': 4})\n",
      "Row(('dishwasher', 30, False, [{'created': datetime.date(2016, 1, 1), 'comment': 'comment1'}, {'created': datetime.date(2016, 1, 1), 'comment': 'comment1'}], {'color': 'white', 'warranty': '1 year', 'dimensions': None}), {'product': 0, 'quantity': 1, 'supply_constrained': 2, 'comments': 3, 'specifications': 4})\n",
      "Row(('front load washer', 20, False, [{'created': datetime.date(2024, 8, 8), 'comment': 'comment1'}, {'created': datetime.date(2016, 1, 1), 'comment': 'comment1'}, {'created': datetime.date(2016, 1, 1), 'comment': 'comment1'}], {'color': 'white', 'warranty': '1 year', 'dimensions': None}), {'product': 0, 'quantity': 1, 'supply_constrained': 2, 'comments': 3, 'specifications': 4})\n",
      "Row(('top load washer', 10, False, [{'created': datetime.date(2024, 8, 8), 'comment': 'comment1'}, {'created': datetime.date(2016, 1, 1), 'comment': 'comment1'}, {'created': datetime.date(2016, 1, 1), 'comment': 'comment1'}], {'color': 'white', 'warranty': '1 year', 'dimensions': None}), {'product': 0, 'quantity': 1, 'supply_constrained': 2, 'comments': 3, 'specifications': 4})\n"
     ]
    }
   ],
   "source": [
    "# Perform a query.\n",
    "QUERY = (\n",
    "    'SELECT * FROM `premium-botany-431702-u7.dataset1.DetailedInventory` LIMIT 1000;')\n",
    "query_job = client.query(QUERY)  # API request\n",
    "rows = query_job.result()  # Waits for query to finish\n",
    "for row in rows:\n",
    "    print(row)"
   ]
  },
  {
   "cell_type": "markdown",
   "metadata": {},
   "source": [
    "To delete repeated value entries, you can use **WHERE ... NOT LIKE**:"
   ]
  },
  {
   "cell_type": "code",
   "execution_count": 17,
   "metadata": {},
   "outputs": [],
   "source": [
    "QUERY = (\n",
    "    '''\n",
    "    UPDATE premium-botany-431702-u7.dataset1.DetailedInventory\n",
    "    SET comments = ARRAY(\n",
    "      SELECT c FROM UNNEST(comments) AS c\n",
    "      WHERE c.comment NOT LIKE '%comment2%'\n",
    ")\n",
    "WHERE true;\n",
    "'''\n",
    ")\n",
    "query_job = client.query(QUERY)  # API request"
   ]
  },
  {
   "cell_type": "code",
   "execution_count": 18,
   "metadata": {},
   "outputs": [
    {
     "name": "stdout",
     "output_type": "stream",
     "text": [
      "Row(('countertop microwave', 20, None, [], None), {'product': 0, 'quantity': 1, 'supply_constrained': 2, 'comments': 3, 'specifications': 4})\n",
      "Row(('oven', 5, False, [], None), {'product': 0, 'quantity': 1, 'supply_constrained': 2, 'comments': 3, 'specifications': 4})\n",
      "Row(('refrigerator', 10, False, [], None), {'product': 0, 'quantity': 1, 'supply_constrained': 2, 'comments': 3, 'specifications': 4})\n",
      "Row(('dryer', 30, False, [], None), {'product': 0, 'quantity': 1, 'supply_constrained': 2, 'comments': 3, 'specifications': 4})\n",
      "Row(('microwave', 20, False, [], None), {'product': 0, 'quantity': 1, 'supply_constrained': 2, 'comments': 3, 'specifications': 4})\n",
      "Row(('top load washer', 10, False, [{'created': datetime.date(2016, 1, 1), 'comment': 'comment1'}, {'created': datetime.date(2016, 1, 1), 'comment': 'comment1'}], {'color': 'white', 'warranty': '1 year', 'dimensions': None}), {'product': 0, 'quantity': 1, 'supply_constrained': 2, 'comments': 3, 'specifications': 4})\n",
      "Row(('front load washer', 20, False, [{'created': datetime.date(2016, 1, 1), 'comment': 'comment1'}, {'created': datetime.date(2016, 1, 1), 'comment': 'comment1'}], {'color': 'white', 'warranty': '1 year', 'dimensions': None}), {'product': 0, 'quantity': 1, 'supply_constrained': 2, 'comments': 3, 'specifications': 4})\n",
      "Row(('dishwasher', 30, False, [{'created': datetime.date(2016, 1, 1), 'comment': 'comment1'}, {'created': datetime.date(2016, 1, 1), 'comment': 'comment1'}], {'color': 'white', 'warranty': '1 year', 'dimensions': None}), {'product': 0, 'quantity': 1, 'supply_constrained': 2, 'comments': 3, 'specifications': 4})\n",
      "Row(('front load washer', 20, False, [{'created': datetime.date(2024, 8, 8), 'comment': 'comment1'}, {'created': datetime.date(2016, 1, 1), 'comment': 'comment1'}, {'created': datetime.date(2016, 1, 1), 'comment': 'comment1'}], {'color': 'white', 'warranty': '1 year', 'dimensions': None}), {'product': 0, 'quantity': 1, 'supply_constrained': 2, 'comments': 3, 'specifications': 4})\n",
      "Row(('top load washer', 10, False, [{'created': datetime.date(2024, 8, 8), 'comment': 'comment1'}, {'created': datetime.date(2016, 1, 1), 'comment': 'comment1'}, {'created': datetime.date(2016, 1, 1), 'comment': 'comment1'}], {'color': 'white', 'warranty': '1 year', 'dimensions': None}), {'product': 0, 'quantity': 1, 'supply_constrained': 2, 'comments': 3, 'specifications': 4})\n"
     ]
    }
   ],
   "source": [
    "# Perform a query.\n",
    "QUERY = (\n",
    "    'SELECT * FROM `premium-botany-431702-u7.dataset1.DetailedInventory` LIMIT 1000;')\n",
    "query_job = client.query(QUERY)  # API request\n",
    "rows = query_job.result()  # Waits for query to finish\n",
    "for row in rows:\n",
    "    print(row)"
   ]
  },
  {
   "cell_type": "markdown",
   "metadata": {},
   "source": [
    "##### UPDATE statement using join between three tables\n",
    "The following example sets supply_constrained to true for all products from NewArrivals where the warehouse location is in 'WA' state."
   ]
  },
  {
   "cell_type": "code",
   "execution_count": 19,
   "metadata": {},
   "outputs": [],
   "source": [
    "QUERY = (\n",
    "    '''\n",
    "    UPDATE premium-botany-431702-u7.dataset1.DetailedInventory\n",
    "    SET supply_constrained = true\n",
    "    FROM premium-botany-431702-u7.dataset1.NewArrivals, premium-botany-431702-u7.dataset1.Warehouse\n",
    "    WHERE DetailedInventory.product = NewArrivals.product AND\n",
    "          NewArrivals.warehouse = Warehouse.warehouse AND\n",
    "          Warehouse.state = 'WA';\n",
    "'''\n",
    ")\n",
    "query_job = client.query(QUERY)  # API request"
   ]
  },
  {
   "cell_type": "code",
   "execution_count": 20,
   "metadata": {},
   "outputs": [
    {
     "name": "stdout",
     "output_type": "stream",
     "text": [
      "Row(('countertop microwave', 20, None, [], None), {'product': 0, 'quantity': 1, 'supply_constrained': 2, 'comments': 3, 'specifications': 4})\n",
      "Row(('oven', 5, False, [], None), {'product': 0, 'quantity': 1, 'supply_constrained': 2, 'comments': 3, 'specifications': 4})\n",
      "Row(('refrigerator', 10, False, [], None), {'product': 0, 'quantity': 1, 'supply_constrained': 2, 'comments': 3, 'specifications': 4})\n",
      "Row(('dryer', 30, False, [], None), {'product': 0, 'quantity': 1, 'supply_constrained': 2, 'comments': 3, 'specifications': 4})\n",
      "Row(('microwave', 20, False, [], None), {'product': 0, 'quantity': 1, 'supply_constrained': 2, 'comments': 3, 'specifications': 4})\n",
      "Row(('top load washer', 10, False, [{'created': datetime.date(2016, 1, 1), 'comment': 'comment1'}, {'created': datetime.date(2016, 1, 1), 'comment': 'comment1'}], {'color': 'white', 'warranty': '1 year', 'dimensions': None}), {'product': 0, 'quantity': 1, 'supply_constrained': 2, 'comments': 3, 'specifications': 4})\n",
      "Row(('front load washer', 20, False, [{'created': datetime.date(2016, 1, 1), 'comment': 'comment1'}, {'created': datetime.date(2016, 1, 1), 'comment': 'comment1'}], {'color': 'white', 'warranty': '1 year', 'dimensions': None}), {'product': 0, 'quantity': 1, 'supply_constrained': 2, 'comments': 3, 'specifications': 4})\n",
      "Row(('dishwasher', 30, False, [{'created': datetime.date(2016, 1, 1), 'comment': 'comment1'}, {'created': datetime.date(2016, 1, 1), 'comment': 'comment1'}], {'color': 'white', 'warranty': '1 year', 'dimensions': None}), {'product': 0, 'quantity': 1, 'supply_constrained': 2, 'comments': 3, 'specifications': 4})\n",
      "Row(('front load washer', 20, False, [{'created': datetime.date(2024, 8, 8), 'comment': 'comment1'}, {'created': datetime.date(2016, 1, 1), 'comment': 'comment1'}, {'created': datetime.date(2016, 1, 1), 'comment': 'comment1'}], {'color': 'white', 'warranty': '1 year', 'dimensions': None}), {'product': 0, 'quantity': 1, 'supply_constrained': 2, 'comments': 3, 'specifications': 4})\n",
      "Row(('top load washer', 10, False, [{'created': datetime.date(2024, 8, 8), 'comment': 'comment1'}, {'created': datetime.date(2016, 1, 1), 'comment': 'comment1'}, {'created': datetime.date(2016, 1, 1), 'comment': 'comment1'}], {'color': 'white', 'warranty': '1 year', 'dimensions': None}), {'product': 0, 'quantity': 1, 'supply_constrained': 2, 'comments': 3, 'specifications': 4})\n"
     ]
    }
   ],
   "source": [
    "# Perform a query.\n",
    "QUERY = (\n",
    "    'SELECT * FROM `premium-botany-431702-u7.dataset1.DetailedInventory` LIMIT 1000;')\n",
    "query_job = client.query(QUERY)  # API request\n",
    "rows = query_job.result()  # Waits for query to finish\n",
    "for row in rows:\n",
    "    print(row)"
   ]
  },
  {
   "cell_type": "code",
   "execution_count": null,
   "metadata": {},
   "outputs": [],
   "source": []
  }
 ],
 "metadata": {
  "kernelspec": {
   "display_name": "venv",
   "language": "python",
   "name": "python3"
  },
  "language_info": {
   "codemirror_mode": {
    "name": "ipython",
    "version": 3
   },
   "file_extension": ".py",
   "mimetype": "text/x-python",
   "name": "python",
   "nbconvert_exporter": "python",
   "pygments_lexer": "ipython3",
   "version": "3.11.9"
  }
 },
 "nbformat": 4,
 "nbformat_minor": 2
}
