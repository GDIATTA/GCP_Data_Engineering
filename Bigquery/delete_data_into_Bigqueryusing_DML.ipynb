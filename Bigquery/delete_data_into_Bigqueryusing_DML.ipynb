{
 "cells": [
  {
   "cell_type": "markdown",
   "metadata": {},
   "source": [
    "### In this tutorial, we will use DML to delete data into Bigquery"
   ]
  },
  {
   "cell_type": "code",
   "execution_count": 1,
   "metadata": {},
   "outputs": [],
   "source": [
    "import os\n",
    "from google.cloud import bigquery\n",
    "os.environ[\"GOOGLE_APPLICATION_CREDENTIALS\"] = \"C:/Users/Lenovo/OneDrive/Documents1/Google_Bigquery/premium-botany-431702-u7-498d1c535417.json\"\n",
    "client = bigquery.Client()"
   ]
  },
  {
   "cell_type": "markdown",
   "metadata": {},
   "source": [
    "##### DELETE with WHERE clause"
   ]
  },
  {
   "cell_type": "code",
   "execution_count": 6,
   "metadata": {},
   "outputs": [],
   "source": [
    "# \n",
    "QUERY = (\n",
    "    '''\n",
    "    DELETE premium-botany-431702-u7.dataset1.Inventory\n",
    "    WHERE quantity = 5\n",
    "      '''\n",
    "      )\n",
    "query_job = client.query(QUERY)  # API request"
   ]
  },
  {
   "cell_type": "code",
   "execution_count": 7,
   "metadata": {},
   "outputs": [],
   "source": [
    "# Perform a query.\n",
    "QUERY = (\n",
    "    'SELECT * FROM `premium-botany-431702-u7.dataset1.Inventory` LIMIT 1000;')\n",
    "query_job = client.query(QUERY)  # API request\n",
    "rows = query_job.result()  # Waits for query to finish"
   ]
  },
  {
   "cell_type": "code",
   "execution_count": 8,
   "metadata": {},
   "outputs": [
    {
     "name": "stdout",
     "output_type": "stream",
     "text": [
      "Row(('top load washer', 10), {'product': 0, 'quantity': 1})\n",
      "Row(('refrigerator', 10), {'product': 0, 'quantity': 1})\n",
      "Row(('front load washer', 20), {'product': 0, 'quantity': 1})\n",
      "Row(('microwave', 20), {'product': 0, 'quantity': 1})\n",
      "Row(('dishwasher', 30), {'product': 0, 'quantity': 1})\n",
      "Row(('dryer', 30), {'product': 0, 'quantity': 1})\n"
     ]
    }
   ],
   "source": [
    "for row in rows:\n",
    "    print(row)"
   ]
  },
  {
   "cell_type": "markdown",
   "metadata": {},
   "source": [
    "##### DELETE with subquery "
   ]
  },
  {
   "cell_type": "code",
   "execution_count": 9,
   "metadata": {},
   "outputs": [],
   "source": [
    "\n",
    "QUERY = (\n",
    "    '''\n",
    "    DELETE premium-botany-431702-u7.dataset1.Inventory i\n",
    "    WHERE i.product NOT IN (SELECT product from premium-botany-431702-u7.dataset1.NewArrivals);\n",
    "      '''\n",
    "      )\n",
    "query_job = client.query(QUERY)  # API request"
   ]
  },
  {
   "cell_type": "code",
   "execution_count": 10,
   "metadata": {},
   "outputs": [
    {
     "name": "stdout",
     "output_type": "stream",
     "text": [
      "Row(('top load washer', 10), {'product': 0, 'quantity': 1})\n",
      "Row(('dryer', 30), {'product': 0, 'quantity': 1})\n"
     ]
    }
   ],
   "source": [
    "# Perform a query.\n",
    "QUERY = (\n",
    "    'SELECT * FROM `premium-botany-431702-u7.dataset1.Inventory` LIMIT 1000;')\n",
    "query_job = client.query(QUERY)  # API request\n",
    "rows = query_job.result()  # Waits for query to finish\n",
    "for row in rows:\n",
    "    print(row)"
   ]
  },
  {
   "cell_type": "markdown",
   "metadata": {},
   "source": [
    "##### Alternately, you can use DELETE with the EXISTS clause:"
   ]
  },
  {
   "cell_type": "code",
   "execution_count": 11,
   "metadata": {},
   "outputs": [],
   "source": [
    "\n",
    "QUERY = (\n",
    "    '''\n",
    "    DELETE premium-botany-431702-u7.dataset1.Inventory\n",
    "    WHERE NOT EXISTS\n",
    "    (SELECT * from premium-botany-431702-u7.dataset1.NewArrivals\n",
    "    WHERE Inventory.product = NewArrivals.product);\n",
    "      '''\n",
    "      )\n",
    "query_job = client.query(QUERY)  # API request"
   ]
  },
  {
   "cell_type": "code",
   "execution_count": 12,
   "metadata": {},
   "outputs": [
    {
     "name": "stdout",
     "output_type": "stream",
     "text": [
      "Row(('top load washer', 10), {'product': 0, 'quantity': 1})\n",
      "Row(('dryer', 30), {'product': 0, 'quantity': 1})\n"
     ]
    }
   ],
   "source": [
    "# Perform a query.\n",
    "QUERY = (\n",
    "    'SELECT * FROM `premium-botany-431702-u7.dataset1.Inventory` LIMIT 1000;')\n",
    "query_job = client.query(QUERY)  # API request\n",
    "rows = query_job.result()  # Waits for query to finish\n",
    "for row in rows:\n",
    "    print(row)"
   ]
  },
  {
   "cell_type": "markdown",
   "metadata": {},
   "source": [
    "##### TRUNCATE TABLE\n",
    "The following example removes all rows from the table named Inventory."
   ]
  },
  {
   "cell_type": "code",
   "execution_count": 13,
   "metadata": {},
   "outputs": [],
   "source": [
    "\n",
    "QUERY = (\n",
    "    '''\n",
    "    TRUNCATE TABLE premium-botany-431702-u7.dataset1.Inventory;\n",
    "'''\n",
    ")\n",
    "query_job = client.query(QUERY)  # API request"
   ]
  },
  {
   "cell_type": "code",
   "execution_count": 14,
   "metadata": {},
   "outputs": [],
   "source": [
    "# Perform a query.\n",
    "QUERY = (\n",
    "    'SELECT * FROM `premium-botany-431702-u7.dataset1.Inventory` LIMIT 1000;')\n",
    "query_job = client.query(QUERY)  # API request\n",
    "rows = query_job.result()  # Waits for query to finish\n",
    "for row in rows:\n",
    "    print(row)"
   ]
  }
 ],
 "metadata": {
  "kernelspec": {
   "display_name": "venv",
   "language": "python",
   "name": "python3"
  },
  "language_info": {
   "codemirror_mode": {
    "name": "ipython",
    "version": 3
   },
   "file_extension": ".py",
   "mimetype": "text/x-python",
   "name": "python",
   "nbconvert_exporter": "python",
   "pygments_lexer": "ipython3",
   "version": "3.11.9"
  }
 },
 "nbformat": 4,
 "nbformat_minor": 2
}
