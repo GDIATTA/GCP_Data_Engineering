{
 "cells": [
  {
   "cell_type": "markdown",
   "metadata": {},
   "source": [
    "### In this tutorial, we will use DML to insert data into Bigquery"
   ]
  },
  {
   "cell_type": "code",
   "execution_count": 14,
   "metadata": {},
   "outputs": [],
   "source": [
    "import os\n",
    "from google.cloud import bigquery\n",
    "os.environ[\"GOOGLE_APPLICATION_CREDENTIALS\"] = \"C:/Users/Lenovo/OneDrive/Documents1/Google_Bigquery/premium-botany-431702-u7-498d1c535417.json\"\n",
    "client = bigquery.Client()"
   ]
  },
  {
   "cell_type": "markdown",
   "metadata": {},
   "source": [
    "##### INSERT using explicit values"
   ]
  },
  {
   "cell_type": "code",
   "execution_count": 16,
   "metadata": {},
   "outputs": [],
   "source": [
    "# \n",
    "QUERY = (\n",
    "    '''\n",
    "    INSERT premium-botany-431702-u7.dataset1.Inventory (product, quantity)\n",
    "    VALUES('top load washer', 10),\n",
    "      ('front load washer', 20),\n",
    "      ('dryer', 30),\n",
    "      ('refrigerator', 10),\n",
    "      ('microwave', 20),\n",
    "      ('dishwasher', 30),\n",
    "      ('oven', 5)\n",
    "      '''\n",
    "      )\n",
    "query_job = client.query(QUERY)  # API request"
   ]
  },
  {
   "cell_type": "code",
   "execution_count": 18,
   "metadata": {},
   "outputs": [],
   "source": [
    "# Perform a query.\n",
    "QUERY = (\n",
    "    'SELECT * FROM `premium-botany-431702-u7.dataset1.Inventory` LIMIT 1000;')\n",
    "query_job = client.query(QUERY)  # API request\n",
    "rows = query_job.result()  # Waits for query to finish"
   ]
  },
  {
   "cell_type": "code",
   "execution_count": 19,
   "metadata": {},
   "outputs": [
    {
     "name": "stdout",
     "output_type": "stream",
     "text": [
      "Row(('oven', 5), {'product': 0, 'quantity': 1})\n",
      "Row(('refrigerator', 10), {'product': 0, 'quantity': 1})\n",
      "Row(('top load washer', 10), {'product': 0, 'quantity': 1})\n",
      "Row(('front load washer', 20), {'product': 0, 'quantity': 1})\n",
      "Row(('microwave', 20), {'product': 0, 'quantity': 1})\n",
      "Row(('dishwasher', 30), {'product': 0, 'quantity': 1})\n",
      "Row(('dryer', 30), {'product': 0, 'quantity': 1})\n"
     ]
    }
   ],
   "source": [
    "for row in rows:\n",
    "    print(row)"
   ]
  },
  {
   "cell_type": "markdown",
   "metadata": {},
   "source": [
    "##### If you set a default value for a column, then you can use the DEFAULT keyword in place of a value to insert the default value: "
   ]
  },
  {
   "cell_type": "code",
   "execution_count": 22,
   "metadata": {},
   "outputs": [],
   "source": [
    "\n",
    "QUERY = (\n",
    "    '''\n",
    "    ALTER TABLE premium-botany-431702-u7.dataset1.NewArrivals ALTER COLUMN quantity SET DEFAULT 100;\n",
    "\n",
    "    INSERT premium-botany-431702-u7.dataset1.NewArrivals (product, quantity, warehouse)\n",
    "    VALUES('top load washer', DEFAULT, 'warehouse #1'),\n",
    "      ('dryer', 200, 'warehouse #2'),\n",
    "      ('oven', 300, 'warehouse #3');\n",
    "      '''\n",
    "      )\n",
    "query_job = client.query(QUERY)  # API request"
   ]
  },
  {
   "cell_type": "code",
   "execution_count": 24,
   "metadata": {},
   "outputs": [
    {
     "name": "stdout",
     "output_type": "stream",
     "text": [
      "Row(('dryer', 200, 'warehouse #2'), {'product': 0, 'quantity': 1, 'warehouse': 2})\n",
      "Row(('oven', 300, 'warehouse #3'), {'product': 0, 'quantity': 1, 'warehouse': 2})\n",
      "Row(('top load washer', 100, 'warehouse #1'), {'product': 0, 'quantity': 1, 'warehouse': 2})\n"
     ]
    }
   ],
   "source": [
    "# Perform a query.\n",
    "QUERY = (\n",
    "    'SELECT * FROM `premium-botany-431702-u7.dataset1.NewArrivals` LIMIT 1000;')\n",
    "query_job = client.query(QUERY)  # API request\n",
    "rows = query_job.result()  # Waits for query to finish\n",
    "for row in rows:\n",
    "    print(row)"
   ]
  },
  {
   "cell_type": "markdown",
   "metadata": {},
   "source": [
    "##### INSERT SELECT statement"
   ]
  },
  {
   "cell_type": "code",
   "execution_count": 25,
   "metadata": {},
   "outputs": [],
   "source": [
    "\n",
    "QUERY = (\n",
    "    '''\n",
    "    INSERT premium-botany-431702-u7.dataset1.Warehouse (warehouse, state)\n",
    "    SELECT *\n",
    "    FROM UNNEST([('warehouse #1', 'WA'),\n",
    "      ('warehouse #2', 'CA'),\n",
    "      ('warehouse #3', 'WA')]);\n",
    "      '''\n",
    "      )\n",
    "query_job = client.query(QUERY)  # API request"
   ]
  },
  {
   "cell_type": "code",
   "execution_count": 26,
   "metadata": {},
   "outputs": [
    {
     "name": "stdout",
     "output_type": "stream",
     "text": [
      "Row(('warehouse #1', 'WA'), {'warehouse': 0, 'state': 1})\n",
      "Row(('warehouse #3', 'WA'), {'warehouse': 0, 'state': 1})\n",
      "Row(('warehouse #2', 'CA'), {'warehouse': 0, 'state': 1})\n"
     ]
    }
   ],
   "source": [
    "# Perform a query.\n",
    "QUERY = (\n",
    "    'SELECT * FROM `premium-botany-431702-u7.dataset1.Warehouse` LIMIT 1000;')\n",
    "query_job = client.query(QUERY)  # API request\n",
    "rows = query_job.result()  # Waits for query to finish\n",
    "for row in rows:\n",
    "    print(row)"
   ]
  },
  {
   "cell_type": "markdown",
   "metadata": {},
   "source": [
    "##### You can also use WITH when using INSERT SELECT. For example, you can rewrite the previous query using WITH:"
   ]
  },
  {
   "cell_type": "code",
   "execution_count": 28,
   "metadata": {},
   "outputs": [],
   "source": [
    "\n",
    "QUERY = (\n",
    "    '''\n",
    "    INSERT premium-botany-431702-u7.dataset1.Warehouse (warehouse, state)\n",
    "    WITH w AS (\n",
    "    SELECT ARRAY<STRUCT<warehouse string, state string>>\n",
    "      [('warehouse #1', 'WA'),\n",
    "       ('warehouse #2', 'CA'),\n",
    "       ('warehouse #3', 'WA')] col\n",
    ")\n",
    "SELECT warehouse, state FROM w, UNNEST(w.col);\n",
    "'''\n",
    ")\n",
    "query_job = client.query(QUERY)  # API request"
   ]
  },
  {
   "cell_type": "code",
   "execution_count": 29,
   "metadata": {},
   "outputs": [
    {
     "name": "stdout",
     "output_type": "stream",
     "text": [
      "Row(('warehouse #1', 'WA'), {'warehouse': 0, 'state': 1})\n",
      "Row(('warehouse #3', 'WA'), {'warehouse': 0, 'state': 1})\n",
      "Row(('warehouse #2', 'CA'), {'warehouse': 0, 'state': 1})\n",
      "Row(('warehouse #2', 'CA'), {'warehouse': 0, 'state': 1})\n",
      "Row(('warehouse #3', 'WA'), {'warehouse': 0, 'state': 1})\n",
      "Row(('warehouse #1', 'WA'), {'warehouse': 0, 'state': 1})\n"
     ]
    }
   ],
   "source": [
    "# Perform a query.\n",
    "QUERY = (\n",
    "    'SELECT * FROM `premium-botany-431702-u7.dataset1.Warehouse` LIMIT 1000;')\n",
    "query_job = client.query(QUERY)  # API request\n",
    "rows = query_job.result()  # Waits for query to finish\n",
    "for row in rows:\n",
    "    print(row)"
   ]
  },
  {
   "cell_type": "markdown",
   "metadata": {},
   "source": [
    "##### The following example shows how to copy a table's contents into another table:"
   ]
  },
  {
   "cell_type": "code",
   "execution_count": 33,
   "metadata": {},
   "outputs": [],
   "source": [
    "\n",
    "QUERY = (\n",
    "    '''\n",
    "    INSERT premium-botany-431702-u7.dataset1.DetailedInventory (product, quantity, supply_constrained)\n",
    "    SELECT product, quantity, false\n",
    "    FROM premium-botany-431702-u7.dataset1.Inventory;\n",
    "'''\n",
    ")\n",
    "query_job = client.query(QUERY)  # API request"
   ]
  },
  {
   "cell_type": "code",
   "execution_count": 34,
   "metadata": {},
   "outputs": [
    {
     "name": "stdout",
     "output_type": "stream",
     "text": [
      "Row(('countertop microwave', 20, None, None, None), {'product': 0, 'quantity': 1, 'supply_constrained': 2, 'comments': 3, 'specifications': 4})\n",
      "Row(('oven', 5, False, None, None), {'product': 0, 'quantity': 1, 'supply_constrained': 2, 'comments': 3, 'specifications': 4})\n",
      "Row(('refrigerator', 10, False, None, None), {'product': 0, 'quantity': 1, 'supply_constrained': 2, 'comments': 3, 'specifications': 4})\n",
      "Row(('top load washer', 10, False, None, None), {'product': 0, 'quantity': 1, 'supply_constrained': 2, 'comments': 3, 'specifications': 4})\n",
      "Row(('front load washer', 20, False, None, None), {'product': 0, 'quantity': 1, 'supply_constrained': 2, 'comments': 3, 'specifications': 4})\n",
      "Row(('microwave', 20, False, None, None), {'product': 0, 'quantity': 1, 'supply_constrained': 2, 'comments': 3, 'specifications': 4})\n",
      "Row(('dishwasher', 30, False, None, None), {'product': 0, 'quantity': 1, 'supply_constrained': 2, 'comments': 3, 'specifications': 4})\n",
      "Row(('dryer', 30, False, None, None), {'product': 0, 'quantity': 1, 'supply_constrained': 2, 'comments': 3, 'specifications': 4})\n",
      "Row(('oven', 5, False, None, None), {'product': 0, 'quantity': 1, 'supply_constrained': 2, 'comments': 3, 'specifications': 4})\n",
      "Row(('top load washer', 10, False, None, None), {'product': 0, 'quantity': 1, 'supply_constrained': 2, 'comments': 3, 'specifications': 4})\n",
      "Row(('refrigerator', 10, False, None, None), {'product': 0, 'quantity': 1, 'supply_constrained': 2, 'comments': 3, 'specifications': 4})\n",
      "Row(('front load washer', 20, False, None, None), {'product': 0, 'quantity': 1, 'supply_constrained': 2, 'comments': 3, 'specifications': 4})\n",
      "Row(('microwave', 20, False, None, None), {'product': 0, 'quantity': 1, 'supply_constrained': 2, 'comments': 3, 'specifications': 4})\n",
      "Row(('dishwasher', 30, False, None, None), {'product': 0, 'quantity': 1, 'supply_constrained': 2, 'comments': 3, 'specifications': 4})\n",
      "Row(('dryer', 30, False, None, None), {'product': 0, 'quantity': 1, 'supply_constrained': 2, 'comments': 3, 'specifications': 4})\n"
     ]
    }
   ],
   "source": [
    "# Perform a query.\n",
    "QUERY = (\n",
    "    'SELECT * FROM `premium-botany-431702-u7.dataset1.DetailedInventory` LIMIT 1000;')\n",
    "query_job = client.query(QUERY)  # API request\n",
    "rows = query_job.result()  # Waits for query to finish\n",
    "for row in rows:\n",
    "    print(row)"
   ]
  },
  {
   "cell_type": "markdown",
   "metadata": {},
   "source": [
    "##### INSERT VALUES with subquery\n",
    "The following example shows how to insert a row into a table, where one of the values is computed using a subquery:"
   ]
  },
  {
   "cell_type": "code",
   "execution_count": 35,
   "metadata": {},
   "outputs": [],
   "source": [
    "QUERY = (\n",
    "    '''\n",
    "    INSERT premium-botany-431702-u7.dataset1.DetailedInventory (product, quantity)\n",
    "    VALUES('countertop microwave',\n",
    "    (SELECT quantity FROM premium-botany-431702-u7.dataset1.DetailedInventory\n",
    "    WHERE product = 'microwave'));\n",
    "'''\n",
    ")\n",
    "query_job = client.query(QUERY)  # API request"
   ]
  },
  {
   "cell_type": "code",
   "execution_count": 36,
   "metadata": {},
   "outputs": [
    {
     "name": "stdout",
     "output_type": "stream",
     "text": [
      "Row(('countertop microwave', 20, None, None, None), {'product': 0, 'quantity': 1, 'supply_constrained': 2, 'comments': 3, 'specifications': 4})\n",
      "Row(('oven', 5, False, None, None), {'product': 0, 'quantity': 1, 'supply_constrained': 2, 'comments': 3, 'specifications': 4})\n",
      "Row(('refrigerator', 10, False, None, None), {'product': 0, 'quantity': 1, 'supply_constrained': 2, 'comments': 3, 'specifications': 4})\n",
      "Row(('top load washer', 10, False, None, None), {'product': 0, 'quantity': 1, 'supply_constrained': 2, 'comments': 3, 'specifications': 4})\n",
      "Row(('front load washer', 20, False, None, None), {'product': 0, 'quantity': 1, 'supply_constrained': 2, 'comments': 3, 'specifications': 4})\n",
      "Row(('microwave', 20, False, None, None), {'product': 0, 'quantity': 1, 'supply_constrained': 2, 'comments': 3, 'specifications': 4})\n",
      "Row(('dishwasher', 30, False, None, None), {'product': 0, 'quantity': 1, 'supply_constrained': 2, 'comments': 3, 'specifications': 4})\n",
      "Row(('dryer', 30, False, None, None), {'product': 0, 'quantity': 1, 'supply_constrained': 2, 'comments': 3, 'specifications': 4})\n",
      "Row(('oven', 5, False, None, None), {'product': 0, 'quantity': 1, 'supply_constrained': 2, 'comments': 3, 'specifications': 4})\n",
      "Row(('top load washer', 10, False, None, None), {'product': 0, 'quantity': 1, 'supply_constrained': 2, 'comments': 3, 'specifications': 4})\n",
      "Row(('refrigerator', 10, False, None, None), {'product': 0, 'quantity': 1, 'supply_constrained': 2, 'comments': 3, 'specifications': 4})\n",
      "Row(('front load washer', 20, False, None, None), {'product': 0, 'quantity': 1, 'supply_constrained': 2, 'comments': 3, 'specifications': 4})\n",
      "Row(('microwave', 20, False, None, None), {'product': 0, 'quantity': 1, 'supply_constrained': 2, 'comments': 3, 'specifications': 4})\n",
      "Row(('dishwasher', 30, False, None, None), {'product': 0, 'quantity': 1, 'supply_constrained': 2, 'comments': 3, 'specifications': 4})\n",
      "Row(('dryer', 30, False, None, None), {'product': 0, 'quantity': 1, 'supply_constrained': 2, 'comments': 3, 'specifications': 4})\n"
     ]
    }
   ],
   "source": [
    "# Perform a query.\n",
    "QUERY = (\n",
    "    'SELECT * FROM `premium-botany-431702-u7.dataset1.DetailedInventory` LIMIT 1000;')\n",
    "query_job = client.query(QUERY)  # API request\n",
    "rows = query_job.result()  # Waits for query to finish\n",
    "for row in rows:\n",
    "    print(row)"
   ]
  },
  {
   "cell_type": "markdown",
   "metadata": {},
   "source": [
    "##### INSERT without column names"
   ]
  },
  {
   "cell_type": "code",
   "execution_count": 37,
   "metadata": {},
   "outputs": [],
   "source": [
    "QUERY = (\n",
    "    '''\n",
    "    INSERT premium-botany-431702-u7.dataset1.Warehouse VALUES('warehouse #4', 'WA'), ('warehouse #5', 'NY');\n",
    "'''\n",
    ")\n",
    "query_job = client.query(QUERY)  # API request"
   ]
  },
  {
   "cell_type": "code",
   "execution_count": 38,
   "metadata": {},
   "outputs": [
    {
     "name": "stdout",
     "output_type": "stream",
     "text": [
      "Row(('warehouse #4', 'WA'), {'warehouse': 0, 'state': 1})\n",
      "Row(('warehouse #5', 'NY'), {'warehouse': 0, 'state': 1})\n",
      "Row(('warehouse #1', 'WA'), {'warehouse': 0, 'state': 1})\n",
      "Row(('warehouse #3', 'WA'), {'warehouse': 0, 'state': 1})\n",
      "Row(('warehouse #2', 'CA'), {'warehouse': 0, 'state': 1})\n",
      "Row(('warehouse #2', 'CA'), {'warehouse': 0, 'state': 1})\n",
      "Row(('warehouse #3', 'WA'), {'warehouse': 0, 'state': 1})\n",
      "Row(('warehouse #1', 'WA'), {'warehouse': 0, 'state': 1})\n"
     ]
    }
   ],
   "source": [
    "# Perform a query.\n",
    "QUERY = (\n",
    "    'SELECT * FROM `premium-botany-431702-u7.dataset1.Warehouse` LIMIT 1000;')\n",
    "query_job = client.query(QUERY)  # API request\n",
    "rows = query_job.result()  # Waits for query to finish\n",
    "for row in rows:\n",
    "    print(row)"
   ]
  },
  {
   "cell_type": "markdown",
   "metadata": {},
   "source": [
    "##### INSERT with STRUCT types\n",
    "The following example shows how to insert a row into a table, where some of the fields are STRUCT types."
   ]
  },
  {
   "cell_type": "code",
   "execution_count": 39,
   "metadata": {},
   "outputs": [],
   "source": [
    "QUERY = (\n",
    "    '''\n",
    "    INSERT premium-botany-431702-u7.dataset1.DetailedInventory\n",
    "    VALUES('top load washer', 10, FALSE, [(CURRENT_DATE, \"comment1\")], (\"white\",\"1 year\",(30,40,28))),\n",
    "      ('front load washer', 20, FALSE, [(CURRENT_DATE, \"comment1\")], (\"beige\",\"1 year\",(35,45,30)));\n",
    "'''\n",
    ")\n",
    "query_job = client.query(QUERY)  # API request"
   ]
  },
  {
   "cell_type": "code",
   "execution_count": 40,
   "metadata": {},
   "outputs": [
    {
     "name": "stdout",
     "output_type": "stream",
     "text": [
      "Row(('countertop microwave', 20, None, None, None), {'product': 0, 'quantity': 1, 'supply_constrained': 2, 'comments': 3, 'specifications': 4})\n",
      "Row(('oven', 5, False, None, None), {'product': 0, 'quantity': 1, 'supply_constrained': 2, 'comments': 3, 'specifications': 4})\n",
      "Row(('refrigerator', 10, False, None, None), {'product': 0, 'quantity': 1, 'supply_constrained': 2, 'comments': 3, 'specifications': 4})\n",
      "Row(('top load washer', 10, False, None, None), {'product': 0, 'quantity': 1, 'supply_constrained': 2, 'comments': 3, 'specifications': 4})\n",
      "Row(('front load washer', 20, False, None, None), {'product': 0, 'quantity': 1, 'supply_constrained': 2, 'comments': 3, 'specifications': 4})\n",
      "Row(('microwave', 20, False, None, None), {'product': 0, 'quantity': 1, 'supply_constrained': 2, 'comments': 3, 'specifications': 4})\n",
      "Row(('dishwasher', 30, False, None, None), {'product': 0, 'quantity': 1, 'supply_constrained': 2, 'comments': 3, 'specifications': 4})\n",
      "Row(('dryer', 30, False, None, None), {'product': 0, 'quantity': 1, 'supply_constrained': 2, 'comments': 3, 'specifications': 4})\n",
      "Row(('oven', 5, False, None, None), {'product': 0, 'quantity': 1, 'supply_constrained': 2, 'comments': 3, 'specifications': 4})\n",
      "Row(('top load washer', 10, False, None, None), {'product': 0, 'quantity': 1, 'supply_constrained': 2, 'comments': 3, 'specifications': 4})\n",
      "Row(('refrigerator', 10, False, None, None), {'product': 0, 'quantity': 1, 'supply_constrained': 2, 'comments': 3, 'specifications': 4})\n",
      "Row(('front load washer', 20, False, None, None), {'product': 0, 'quantity': 1, 'supply_constrained': 2, 'comments': 3, 'specifications': 4})\n",
      "Row(('microwave', 20, False, None, None), {'product': 0, 'quantity': 1, 'supply_constrained': 2, 'comments': 3, 'specifications': 4})\n",
      "Row(('dishwasher', 30, False, None, None), {'product': 0, 'quantity': 1, 'supply_constrained': 2, 'comments': 3, 'specifications': 4})\n",
      "Row(('dryer', 30, False, None, None), {'product': 0, 'quantity': 1, 'supply_constrained': 2, 'comments': 3, 'specifications': 4})\n"
     ]
    }
   ],
   "source": [
    "# Perform a query.\n",
    "QUERY = (\n",
    "    'SELECT * FROM `premium-botany-431702-u7.dataset1.DetailedInventory` LIMIT 1000;')\n",
    "query_job = client.query(QUERY)  # API request\n",
    "rows = query_job.result()  # Waits for query to finish\n",
    "for row in rows:\n",
    "    print(row)"
   ]
  },
  {
   "cell_type": "markdown",
   "metadata": {},
   "source": [
    "##### INSERT with ARRAY types\n",
    "The following example show how to insert a row into a table, where one of the fields is an ARRAY type."
   ]
  },
  {
   "cell_type": "code",
   "execution_count": 41,
   "metadata": {},
   "outputs": [],
   "source": [
    "QUERY = (\n",
    "    '''\n",
    "    CREATE TABLE IF NOT EXISTS premium-botany-431702-u7.dataset1.table1 (names ARRAY<STRING>);\n",
    "\n",
    "    INSERT INTO premium-botany-431702-u7.dataset1.table1 (names)\n",
    "    VALUES ([\"name1\",\"name2\"]);\n",
    "'''\n",
    ")\n",
    "query_job = client.query(QUERY)  # API request"
   ]
  },
  {
   "cell_type": "code",
   "execution_count": 42,
   "metadata": {},
   "outputs": [
    {
     "name": "stdout",
     "output_type": "stream",
     "text": [
      "Row((['name1', 'name2'],), {'names': 0})\n"
     ]
    }
   ],
   "source": [
    "# Perform a query.\n",
    "QUERY = (\n",
    "    'SELECT * FROM `premium-botany-431702-u7.dataset1.table1` LIMIT 1000;')\n",
    "query_job = client.query(QUERY)  # API request\n",
    "rows = query_job.result()  # Waits for query to finish\n",
    "for row in rows:\n",
    "    print(row)"
   ]
  },
  {
   "cell_type": "markdown",
   "metadata": {},
   "source": [
    "##### INSERT with RANGE types\n",
    "The following example shows how to insert rows into a table, where the fields are RANGE type."
   ]
  },
  {
   "cell_type": "code",
   "execution_count": 45,
   "metadata": {},
   "outputs": [],
   "source": [
    "QUERY = (\n",
    "    '''\n",
    "    CREATE TABLE IF NOT EXISTS premium-botany-431702-u7.dataset1.mytable1 (emp_id INTEGER, dept_id INTEGER, duration RANGE<DATE>);\n",
    "\n",
    "    INSERT premium-botany-431702-u7.dataset1.mytable1 (emp_id, dept_id, duration)\n",
    "    VALUES(10, 1000, RANGE<DATE> '[2010-01-10, 2010-03-10)'),\n",
    "      (10, 2000, RANGE<DATE> '[2010-03-10, 2010-07-15)'),\n",
    "      (10, 2000, RANGE<DATE> '[2010-06-15, 2010-08-18)'),\n",
    "      (20, 2000, RANGE<DATE> '[2010-03-10, 2010-07-20)'),\n",
    "      (20, 1000, RANGE<DATE> '[2020-05-10, 2020-09-20)');\n",
    "'''\n",
    ")\n",
    "query_job = client.query(QUERY)  # API request"
   ]
  },
  {
   "cell_type": "code",
   "execution_count": 46,
   "metadata": {},
   "outputs": [
    {
     "name": "stdout",
     "output_type": "stream",
     "text": [
      "Row((10, 2000, {'start': datetime.date(2010, 6, 15), 'end': datetime.date(2010, 8, 18)}), {'emp_id': 0, 'dept_id': 1, 'duration': 2})\n",
      "Row((10, 2000, {'start': datetime.date(2010, 3, 10), 'end': datetime.date(2010, 7, 15)}), {'emp_id': 0, 'dept_id': 1, 'duration': 2})\n",
      "Row((10, 1000, {'start': datetime.date(2010, 1, 10), 'end': datetime.date(2010, 3, 10)}), {'emp_id': 0, 'dept_id': 1, 'duration': 2})\n",
      "Row((20, 2000, {'start': datetime.date(2010, 3, 10), 'end': datetime.date(2010, 7, 20)}), {'emp_id': 0, 'dept_id': 1, 'duration': 2})\n",
      "Row((20, 1000, {'start': datetime.date(2020, 5, 10), 'end': datetime.date(2020, 9, 20)}), {'emp_id': 0, 'dept_id': 1, 'duration': 2})\n"
     ]
    }
   ],
   "source": [
    "# Perform a query.\n",
    "QUERY = (\n",
    "    'SELECT * FROM premium-botany-431702-u7.dataset1.mytable1 ORDER BY emp_id;')\n",
    "query_job = client.query(QUERY)  # API request\n",
    "rows = query_job.result()  # Waits for query to finish\n",
    "for row in rows:\n",
    "    print(row)"
   ]
  },
  {
   "cell_type": "code",
   "execution_count": null,
   "metadata": {},
   "outputs": [],
   "source": []
  }
 ],
 "metadata": {
  "kernelspec": {
   "display_name": "venv",
   "language": "python",
   "name": "python3"
  },
  "language_info": {
   "codemirror_mode": {
    "name": "ipython",
    "version": 3
   },
   "file_extension": ".py",
   "mimetype": "text/x-python",
   "name": "python",
   "nbconvert_exporter": "python",
   "pygments_lexer": "ipython3",
   "version": "3.11.9"
  }
 },
 "nbformat": 4,
 "nbformat_minor": 2
}
